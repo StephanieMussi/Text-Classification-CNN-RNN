{
 "cells": [
  {
   "cell_type": "markdown",
   "metadata": {},
   "source": [
    "# Character CNN CLassifier"
   ]
  },
  {
   "cell_type": "code",
   "execution_count": 1,
   "metadata": {
    "executionInfo": {
     "elapsed": 2167,
     "status": "ok",
     "timestamp": 1605081603750,
     "user": {
      "displayName": "Mu Siyi",
      "photoUrl": "https://lh3.googleusercontent.com/a-/AOh14Gj8QgmJnhwClZ56sAt7RQhY0GcJe4BfDK1dGxf4ZQ=s64",
      "userId": "04695566065545999051"
     },
     "user_tz": -480
    },
    "id": "0BsPHUti2ZvC"
   },
   "outputs": [],
   "source": [
    "import numpy as np\n",
    "import tensorflow as tf\n",
    "from tensorflow.keras import Model, layers\n",
    "import csv\n",
    "import re\n",
    "import pylab\n",
    "import matplotlib.pyplot as plt"
   ]
  },
  {
   "cell_type": "code",
   "execution_count": 2,
   "metadata": {
    "executionInfo": {
     "elapsed": 2162,
     "status": "ok",
     "timestamp": 1605081603751,
     "user": {
      "displayName": "Mu Siyi",
      "photoUrl": "https://lh3.googleusercontent.com/a-/AOh14Gj8QgmJnhwClZ56sAt7RQhY0GcJe4BfDK1dGxf4ZQ=s64",
      "userId": "04695566065545999051"
     },
     "user_tz": -480
    },
    "id": "oUfCwguj4ucu"
   },
   "outputs": [],
   "source": [
    "MAX_DOCUMENT_LENGTH = 100\n",
    "N_FILTERS = 10\n",
    "FILTER_SHAPE1 = [20, 256]\n",
    "FILTER_SHAPE2 = [20, 1]\n",
    "POOLING_WINDOW = 4\n",
    "POOLING_STRIDE = 2\n",
    "MAX_LABEL = 15\n",
    "\n",
    "batch_size = 128\n",
    "one_hot_size = 256\n",
    "no_epochs = 100\n",
    "lr = 0.01\n",
    "\n",
    "seed = 10\n",
    "tf.random.set_seed(seed)\n"
   ]
  },
  {
   "cell_type": "markdown",
   "metadata": {},
   "source": [
    "## Read data"
   ]
  },
  {
   "cell_type": "code",
   "execution_count": 3,
   "metadata": {
    "executionInfo": {
     "elapsed": 2159,
     "status": "ok",
     "timestamp": 1605081603752,
     "user": {
      "displayName": "Mu Siyi",
      "photoUrl": "https://lh3.googleusercontent.com/a-/AOh14Gj8QgmJnhwClZ56sAt7RQhY0GcJe4BfDK1dGxf4ZQ=s64",
      "userId": "04695566065545999051"
     },
     "user_tz": -480
    },
    "id": "7GI9Ic0s454w"
   },
   "outputs": [],
   "source": [
    "# Read data with [character]\n",
    "def vocabulary(strings):\n",
    "    chars = sorted(list(set(list(''.join(strings)))))\n",
    "    char_to_ix = { ch:i for i,ch in enumerate(chars) }\n",
    "    vocab_size = len(chars)\n",
    "    return vocab_size, char_to_ix"
   ]
  },
  {
   "cell_type": "code",
   "execution_count": 4,
   "metadata": {
    "executionInfo": {
     "elapsed": 2155,
     "status": "ok",
     "timestamp": 1605081603752,
     "user": {
      "displayName": "Mu Siyi",
      "photoUrl": "https://lh3.googleusercontent.com/a-/AOh14Gj8QgmJnhwClZ56sAt7RQhY0GcJe4BfDK1dGxf4ZQ=s64",
      "userId": "04695566065545999051"
     },
     "user_tz": -480
    },
    "id": "pcc6PMth9cDD"
   },
   "outputs": [],
   "source": [
    "def preprocess(strings, char_to_ix, MAX_LENGTH):\n",
    "    data_chars = [list(d.lower()) for _, d in enumerate(strings)]\n",
    "    for i, d in enumerate(data_chars):\n",
    "        if len(d)>MAX_LENGTH:\n",
    "            d = d[:MAX_LENGTH]\n",
    "        elif len(d) < MAX_LENGTH:\n",
    "            d += [' '] * (MAX_LENGTH - len(d))\n",
    "            \n",
    "    data_ids = np.zeros([len(data_chars), MAX_LENGTH], dtype=np.int64)\n",
    "    for i in range(len(data_chars)):\n",
    "        for j in range(MAX_LENGTH):\n",
    "            data_ids[i, j] = char_to_ix[data_chars[i][j]]\n",
    "    return np.array(data_ids)"
   ]
  },
  {
   "cell_type": "code",
   "execution_count": 5,
   "metadata": {
    "executionInfo": {
     "elapsed": 2153,
     "status": "ok",
     "timestamp": 1605081603753,
     "user": {
      "displayName": "Mu Siyi",
      "photoUrl": "https://lh3.googleusercontent.com/a-/AOh14Gj8QgmJnhwClZ56sAt7RQhY0GcJe4BfDK1dGxf4ZQ=s64",
      "userId": "04695566065545999051"
     },
     "user_tz": -480
    },
    "id": "RO-WVZrw5FIr"
   },
   "outputs": [],
   "source": [
    "def read_data_chars():\n",
    "    x_train, y_train, x_test, y_test = [], [], [], []\n",
    "    cop = re.compile(\"[^a-z^A-Z^0-9^,^.^' ']\")\n",
    "    with open('/content/drive/My Drive/tensorflow/train_medium.csv', encoding='utf-8') as filex:\n",
    "        reader = csv.reader(filex)\n",
    "        for row in reader:\n",
    "            data = cop.sub(\"\", row[1])\n",
    "            x_train.append(data)\n",
    "            y_train.append(int(row[0]))\n",
    "\n",
    "    with open('/content/drive/My Drive/tensorflow/test_medium.csv', encoding='utf-8') as filex:\n",
    "        reader = csv.reader(filex)\n",
    "        for row in reader:\n",
    "            data = cop.sub(\"\", row[1])\n",
    "            x_test.append(data)\n",
    "            y_test.append(int(row[0]))\n",
    "\n",
    "    vocab_size, char_to_ix = vocabulary(x_train+x_test)\n",
    "    x_train = preprocess(x_train, char_to_ix, MAX_DOCUMENT_LENGTH)\n",
    "    y_train = np.array(y_train)\n",
    "    x_test = preprocess(x_test, char_to_ix, MAX_DOCUMENT_LENGTH)\n",
    "    y_test = np.array(y_test)\n",
    "\n",
    "    x_train = tf.constant(x_train, dtype=tf.int64)\n",
    "    y_train = tf.constant(y_train, dtype=tf.int64)\n",
    "    x_test = tf.constant(x_test, dtype=tf.int64)\n",
    "    y_test = tf.constant(y_test, dtype=tf.int64)\n",
    "\n",
    "    return x_train, y_train, x_test, y_test"
   ]
  },
  {
   "cell_type": "code",
   "execution_count": 6,
   "metadata": {
    "executionInfo": {
     "elapsed": 3175,
     "status": "ok",
     "timestamp": 1605081604778,
     "user": {
      "displayName": "Mu Siyi",
      "photoUrl": "https://lh3.googleusercontent.com/a-/AOh14Gj8QgmJnhwClZ56sAt7RQhY0GcJe4BfDK1dGxf4ZQ=s64",
      "userId": "04695566065545999051"
     },
     "user_tz": -480
    },
    "id": "JnzNaiJG5WXQ"
   },
   "outputs": [],
   "source": [
    "x_train, y_train, x_test, y_test = read_data_chars()\n",
    "# Use `tf.data` to batch and shuffle the dataset:\n",
    "train_ds = tf.data.Dataset.from_tensor_slices(\n",
    "    (x_train, y_train)).shuffle(10000).batch(batch_size)\n",
    "test_ds = tf.data.Dataset.from_tensor_slices((x_test, y_test)).batch(batch_size)"
   ]
  },
  {
   "cell_type": "markdown",
   "metadata": {},
   "source": [
    "## Build model"
   ]
  },
  {
   "cell_type": "code",
   "execution_count": 7,
   "metadata": {
    "executionInfo": {
     "elapsed": 3174,
     "status": "ok",
     "timestamp": 1605081604780,
     "user": {
      "displayName": "Mu Siyi",
      "photoUrl": "https://lh3.googleusercontent.com/a-/AOh14Gj8QgmJnhwClZ56sAt7RQhY0GcJe4BfDK1dGxf4ZQ=s64",
      "userId": "04695566065545999051"
     },
     "user_tz": -480
    },
    "id": "uR48smmb5fRG"
   },
   "outputs": [],
   "source": [
    "# Build model\n",
    "tf.keras.backend.set_floatx('float32')\n",
    "class CharCNN(Model):\n",
    "    def __init__(self, vocab_size=256):\n",
    "        super(CharCNN, self).__init__()\n",
    "        self.vocab_size = vocab_size\n",
    "        # Weight variables and RNN cell\n",
    "        # Convolution layer C1, 10 filters of 20x256, VALID, ReLU\n",
    "        self.conv1 = layers.Conv2D(N_FILTERS, FILTER_SHAPE1, padding='VALID', activation='relu', use_bias=True)\n",
    "        # Pooling layer S1, 4x4 window size, stride=2\n",
    "        self.pool1 = layers.MaxPool2D(POOLING_WINDOW, POOLING_STRIDE, padding='SAME')\n",
    "        # Convolution layer C2, 10 filters of 20x1, VALID, ReLU\n",
    "        self.conv2 = layers.Conv2D(N_FILTERS, FILTER_SHAPE2, padding='VALID', activation='relu', use_bias=True)\n",
    "        # Pooling layer S2, 4x4 window size, stride=2\n",
    "        self.pool2 = layers.MaxPool2D(POOLING_WINDOW, POOLING_STRIDE, padding='SAME')\n",
    "        self.flatten = layers.Flatten()\n",
    "        self.dense = layers.Dense(MAX_LABEL, activation='softmax')\n",
    "\n",
    "    def call(self, x, drop_rate=0.5):\n",
    "        # forward\n",
    "        x = tf.one_hot(x, one_hot_size)\n",
    "        x = x[..., tf.newaxis] \n",
    "        x = self.conv1(x)\n",
    "        x = self.pool1(x)\n",
    "        x = self.conv2(x)\n",
    "        x = self.pool2(x)\n",
    "        x = self.flatten(x)\n",
    "        x = tf.nn.dropout(x, drop_rate) \n",
    "        logits = self.dense(x)\n",
    "        return logits"
   ]
  },
  {
   "cell_type": "code",
   "execution_count": 8,
   "metadata": {
    "executionInfo": {
     "elapsed": 3171,
     "status": "ok",
     "timestamp": 1605081604780,
     "user": {
      "displayName": "Mu Siyi",
      "photoUrl": "https://lh3.googleusercontent.com/a-/AOh14Gj8QgmJnhwClZ56sAt7RQhY0GcJe4BfDK1dGxf4ZQ=s64",
      "userId": "04695566065545999051"
     },
     "user_tz": -480
    },
    "id": "xHqdIaJH5Qt1"
   },
   "outputs": [],
   "source": [
    "model = CharCNN(256)\n",
    "\n",
    "# Choose optimizer and loss function for training\n",
    "loss_object = tf.keras.losses.SparseCategoricalCrossentropy()\n",
    "optimizer = tf.keras.optimizers.Adam(learning_rate=lr) #Adam \n",
    "\n",
    "# Select metrics to measure the loss and the accuracy of the model. \n",
    "# These metrics accumulate the values over epochs and then print the overall result.\n",
    "train_loss = tf.keras.metrics.Mean(name='train_loss')\n",
    "train_accuracy = tf.keras.metrics.SparseCategoricalAccuracy(name='train_accuracy')\n",
    "\n",
    "test_loss = tf.keras.metrics.Mean(name='test_loss')\n",
    "test_accuracy = tf.keras.metrics.SparseCategoricalAccuracy(name='test_accuracy')\n"
   ]
  },
  {
   "cell_type": "markdown",
   "metadata": {},
   "source": [
    "## Functions for training and testing"
   ]
  },
  {
   "cell_type": "code",
   "execution_count": 9,
   "metadata": {
    "executionInfo": {
     "elapsed": 3168,
     "status": "ok",
     "timestamp": 1605081604781,
     "user": {
      "displayName": "Mu Siyi",
      "photoUrl": "https://lh3.googleusercontent.com/a-/AOh14Gj8QgmJnhwClZ56sAt7RQhY0GcJe4BfDK1dGxf4ZQ=s64",
      "userId": "04695566065545999051"
     },
     "user_tz": -480
    },
    "id": "VTv5gLN76Jl1"
   },
   "outputs": [],
   "source": [
    "# Training function\n",
    "def train_step(model, x, label, drop_rate):\n",
    "    with tf.GradientTape() as tape:\n",
    "        out = model(x, drop_rate)\n",
    "        loss = loss_object(label, out)\n",
    "        gradients = tape.gradient(loss, model.trainable_variables)\n",
    "        optimizer.apply_gradients(zip(gradients, model.trainable_variables))\n",
    "        \n",
    "    train_loss(loss)\n",
    "    train_accuracy(labels, out)"
   ]
  },
  {
   "cell_type": "code",
   "execution_count": 10,
   "metadata": {
    "executionInfo": {
     "elapsed": 3163,
     "status": "ok",
     "timestamp": 1605081604781,
     "user": {
      "displayName": "Mu Siyi",
      "photoUrl": "https://lh3.googleusercontent.com/a-/AOh14Gj8QgmJnhwClZ56sAt7RQhY0GcJe4BfDK1dGxf4ZQ=s64",
      "userId": "04695566065545999051"
     },
     "user_tz": -480
    },
    "id": "9C23-PRs6QxG"
   },
   "outputs": [],
   "source": [
    "# Testing function\n",
    "def test_step(model, x, label, drop_rate=0):\n",
    "    out = model(x,drop_rate)\n",
    "    t_loss = loss_object(label, out)\n",
    "    test_loss(t_loss)\n",
    "    test_accuracy(label, out)"
   ]
  },
  {
   "cell_type": "markdown",
   "metadata": {},
   "source": [
    "## Train model"
   ]
  },
  {
   "cell_type": "code",
   "execution_count": 11,
   "metadata": {
    "colab": {
     "base_uri": "https://localhost:8080/"
    },
    "executionInfo": {
     "elapsed": 64326,
     "status": "ok",
     "timestamp": 1605081665947,
     "user": {
      "displayName": "Mu Siyi",
      "photoUrl": "https://lh3.googleusercontent.com/a-/AOh14Gj8QgmJnhwClZ56sAt7RQhY0GcJe4BfDK1dGxf4ZQ=s64",
      "userId": "04695566065545999051"
     },
     "user_tz": -480
    },
    "id": "A0X5HB8V6TlO",
    "outputId": "ea3872e1-a303-44a9-d844-75402a0c492f"
   },
   "outputs": [
    {
     "name": "stdout",
     "output_type": "stream",
     "text": [
      "Epoch 1, Loss: 2.3261594772338867, Accuracy: 0.20196428894996643, Test Loss: 1.7988682985305786, Test Accuracy: 0.38999998569488525\n",
      "Epoch 2, Loss: 1.5627026557922363, Accuracy: 0.4494642913341522, Test Loss: 1.2848336696624756, Test Accuracy: 0.5628571510314941\n",
      "Epoch 3, Loss: 1.1660128831863403, Accuracy: 0.585357129573822, Test Loss: 1.1300081014633179, Test Accuracy: 0.6200000047683716\n",
      "Epoch 4, Loss: 0.9696000814437866, Accuracy: 0.6600000262260437, Test Loss: 1.0621157884597778, Test Accuracy: 0.6485714316368103\n",
      "Epoch 5, Loss: 0.8424000144004822, Accuracy: 0.7046428322792053, Test Loss: 1.0382766723632812, Test Accuracy: 0.6728571653366089\n",
      "Epoch 6, Loss: 0.745890200138092, Accuracy: 0.731071412563324, Test Loss: 1.038164496421814, Test Accuracy: 0.6642857193946838\n",
      "Epoch 7, Loss: 0.6986073851585388, Accuracy: 0.7558928728103638, Test Loss: 1.0371896028518677, Test Accuracy: 0.6957142949104309\n",
      "Epoch 8, Loss: 0.6162469387054443, Accuracy: 0.7855356931686401, Test Loss: 1.1297926902770996, Test Accuracy: 0.6600000262260437\n",
      "Epoch 9, Loss: 0.585683286190033, Accuracy: 0.8014285564422607, Test Loss: 1.1320791244506836, Test Accuracy: 0.6585714221000671\n",
      "Epoch 10, Loss: 0.5256904363632202, Accuracy: 0.8162500262260437, Test Loss: 1.1661823987960815, Test Accuracy: 0.6871428489685059\n",
      "Epoch 11, Loss: 0.4777205288410187, Accuracy: 0.8273214101791382, Test Loss: 1.3093323707580566, Test Accuracy: 0.6800000071525574\n",
      "Epoch 12, Loss: 0.4593755900859833, Accuracy: 0.8366071581840515, Test Loss: 1.3394050598144531, Test Accuracy: 0.6757143139839172\n",
      "Epoch 13, Loss: 0.4668413996696472, Accuracy: 0.835178554058075, Test Loss: 1.2980551719665527, Test Accuracy: 0.6714285612106323\n",
      "Epoch 14, Loss: 0.4347231090068817, Accuracy: 0.8478571176528931, Test Loss: 1.3437600135803223, Test Accuracy: 0.6828571557998657\n",
      "Epoch 15, Loss: 0.4067828357219696, Accuracy: 0.8614285588264465, Test Loss: 1.441637396812439, Test Accuracy: 0.6942856907844543\n",
      "Epoch 16, Loss: 0.40797165036201477, Accuracy: 0.8532142639160156, Test Loss: 1.4535616636276245, Test Accuracy: 0.6757143139839172\n",
      "Epoch 17, Loss: 0.38310563564300537, Accuracy: 0.8637499809265137, Test Loss: 1.532230019569397, Test Accuracy: 0.6700000166893005\n",
      "Epoch 18, Loss: 0.3623247444629669, Accuracy: 0.8744642734527588, Test Loss: 1.6758666038513184, Test Accuracy: 0.6671428680419922\n",
      "Epoch 19, Loss: 0.3520737290382385, Accuracy: 0.8787500262260437, Test Loss: 1.6481332778930664, Test Accuracy: 0.6785714030265808\n",
      "Epoch 20, Loss: 0.36181893944740295, Accuracy: 0.8701785802841187, Test Loss: 1.6282216310501099, Test Accuracy: 0.654285728931427\n",
      "Epoch 21, Loss: 0.3468131422996521, Accuracy: 0.8842856884002686, Test Loss: 1.689257025718689, Test Accuracy: 0.6671428680419922\n",
      "Epoch 22, Loss: 0.3319936692714691, Accuracy: 0.885535717010498, Test Loss: 1.8084841966629028, Test Accuracy: 0.6871428489685059\n",
      "Epoch 23, Loss: 0.35381773114204407, Accuracy: 0.8778571486473083, Test Loss: 1.7008438110351562, Test Accuracy: 0.6700000166893005\n",
      "Epoch 24, Loss: 0.3159926235675812, Accuracy: 0.8928571343421936, Test Loss: 1.971577525138855, Test Accuracy: 0.6728571653366089\n",
      "Epoch 25, Loss: 0.3055374026298523, Accuracy: 0.8912500143051147, Test Loss: 1.8059808015823364, Test Accuracy: 0.6728571653366089\n",
      "Epoch 26, Loss: 0.27267590165138245, Accuracy: 0.9041071534156799, Test Loss: 1.9290755987167358, Test Accuracy: 0.6571428775787354\n",
      "Epoch 27, Loss: 0.3011121153831482, Accuracy: 0.8982142806053162, Test Loss: 2.056293249130249, Test Accuracy: 0.668571412563324\n",
      "Epoch 28, Loss: 0.29168570041656494, Accuracy: 0.897678554058075, Test Loss: 1.8711897134780884, Test Accuracy: 0.6571428775787354\n",
      "Epoch 29, Loss: 0.3063706159591675, Accuracy: 0.895892858505249, Test Loss: 2.063547372817993, Test Accuracy: 0.6600000262260437\n",
      "Epoch 30, Loss: 0.31550073623657227, Accuracy: 0.895714282989502, Test Loss: 1.9568949937820435, Test Accuracy: 0.6628571152687073\n",
      "Epoch 31, Loss: 0.2956140339374542, Accuracy: 0.8999999761581421, Test Loss: 2.005051851272583, Test Accuracy: 0.6785714030265808\n",
      "Epoch 32, Loss: 0.28754672408103943, Accuracy: 0.9055356979370117, Test Loss: 1.9988385438919067, Test Accuracy: 0.6471428275108337\n",
      "Epoch 33, Loss: 0.31313422322273254, Accuracy: 0.8955357074737549, Test Loss: 2.0497119426727295, Test Accuracy: 0.6728571653366089\n",
      "Epoch 34, Loss: 0.2887978255748749, Accuracy: 0.9075000286102295, Test Loss: 2.0017149448394775, Test Accuracy: 0.6657142639160156\n",
      "Epoch 35, Loss: 0.2917276620864868, Accuracy: 0.9044643044471741, Test Loss: 1.9692306518554688, Test Accuracy: 0.6842857003211975\n",
      "Epoch 36, Loss: 0.2668270170688629, Accuracy: 0.9162499904632568, Test Loss: 2.079991102218628, Test Accuracy: 0.6785714030265808\n",
      "Epoch 37, Loss: 0.2658240497112274, Accuracy: 0.9094642996788025, Test Loss: 2.138706922531128, Test Accuracy: 0.6700000166893005\n",
      "Epoch 38, Loss: 0.2438281923532486, Accuracy: 0.9175000190734863, Test Loss: 2.191488265991211, Test Accuracy: 0.6828571557998657\n",
      "Epoch 39, Loss: 0.23635883629322052, Accuracy: 0.9194642901420593, Test Loss: 2.0992696285247803, Test Accuracy: 0.6899999976158142\n",
      "Epoch 40, Loss: 0.2510069012641907, Accuracy: 0.9151785969734192, Test Loss: 2.12811279296875, Test Accuracy: 0.6871428489685059\n",
      "Epoch 41, Loss: 0.2382735311985016, Accuracy: 0.9221428632736206, Test Loss: 2.113111972808838, Test Accuracy: 0.6871428489685059\n",
      "Epoch 42, Loss: 0.26825764775276184, Accuracy: 0.9110714197158813, Test Loss: 2.0084099769592285, Test Accuracy: 0.6857143044471741\n",
      "Epoch 43, Loss: 0.25766250491142273, Accuracy: 0.9157142639160156, Test Loss: 2.1166911125183105, Test Accuracy: 0.7014285922050476\n",
      "Epoch 44, Loss: 0.2619224786758423, Accuracy: 0.9142857193946838, Test Loss: 2.2814877033233643, Test Accuracy: 0.6957142949104309\n",
      "Epoch 45, Loss: 0.27600234746932983, Accuracy: 0.9076785445213318, Test Loss: 2.0157487392425537, Test Accuracy: 0.7028571367263794\n",
      "Epoch 46, Loss: 0.24509748816490173, Accuracy: 0.9171428680419922, Test Loss: 2.0748491287231445, Test Accuracy: 0.6885714530944824\n",
      "Epoch 47, Loss: 0.2338780015707016, Accuracy: 0.9223214387893677, Test Loss: 2.108616828918457, Test Accuracy: 0.6871428489685059\n",
      "Epoch 48, Loss: 0.23340652883052826, Accuracy: 0.9225000143051147, Test Loss: 2.2280919551849365, Test Accuracy: 0.6800000071525574\n",
      "Epoch 49, Loss: 0.21899747848510742, Accuracy: 0.9226785898208618, Test Loss: 2.264836549758911, Test Accuracy: 0.6885714530944824\n",
      "Epoch 50, Loss: 0.24280957877635956, Accuracy: 0.9180356860160828, Test Loss: 2.1854779720306396, Test Accuracy: 0.6757143139839172\n",
      "Epoch 51, Loss: 0.24351602792739868, Accuracy: 0.9191071391105652, Test Loss: 2.116307497024536, Test Accuracy: 0.6814285516738892\n",
      "Epoch 52, Loss: 0.250228613615036, Accuracy: 0.9194642901420593, Test Loss: 2.2909700870513916, Test Accuracy: 0.6814285516738892\n",
      "Epoch 53, Loss: 0.23473648726940155, Accuracy: 0.9182142615318298, Test Loss: 2.143232822418213, Test Accuracy: 0.6785714030265808\n",
      "Epoch 54, Loss: 0.24241381883621216, Accuracy: 0.9228571653366089, Test Loss: 2.1656084060668945, Test Accuracy: 0.6800000071525574\n",
      "Epoch 55, Loss: 0.24524353444576263, Accuracy: 0.918571412563324, Test Loss: 2.301621675491333, Test Accuracy: 0.6800000071525574\n",
      "Epoch 56, Loss: 0.24872155487537384, Accuracy: 0.9191071391105652, Test Loss: 2.1907787322998047, Test Accuracy: 0.691428542137146\n",
      "Epoch 57, Loss: 0.2589060962200165, Accuracy: 0.9169642925262451, Test Loss: 2.287234306335449, Test Accuracy: 0.677142858505249\n",
      "Epoch 58, Loss: 0.23163986206054688, Accuracy: 0.923035740852356, Test Loss: 2.4068310260772705, Test Accuracy: 0.6728571653366089\n",
      "Epoch 59, Loss: 0.21629303693771362, Accuracy: 0.9248214364051819, Test Loss: 2.393475294113159, Test Accuracy: 0.6814285516738892\n",
      "Epoch 60, Loss: 0.22215813398361206, Accuracy: 0.931071400642395, Test Loss: 2.4117774963378906, Test Accuracy: 0.677142858505249\n",
      "Epoch 61, Loss: 0.19913062453269958, Accuracy: 0.9346428513526917, Test Loss: 2.5787506103515625, Test Accuracy: 0.6800000071525574\n",
      "Epoch 62, Loss: 0.2204553633928299, Accuracy: 0.9280357360839844, Test Loss: 2.589521646499634, Test Accuracy: 0.6899999976158142\n",
      "Epoch 63, Loss: 0.2399657815694809, Accuracy: 0.9232142567634583, Test Loss: 2.4646074771881104, Test Accuracy: 0.6842857003211975\n",
      "Epoch 64, Loss: 0.2324717491865158, Accuracy: 0.9239285588264465, Test Loss: 2.3365020751953125, Test Accuracy: 0.6828571557998657\n",
      "Epoch 65, Loss: 0.19929233193397522, Accuracy: 0.9332143068313599, Test Loss: 2.5918095111846924, Test Accuracy: 0.6857143044471741\n",
      "Epoch 66, Loss: 0.19217120110988617, Accuracy: 0.9416071176528931, Test Loss: 2.6374881267547607, Test Accuracy: 0.6714285612106323\n",
      "Epoch 67, Loss: 0.2275291383266449, Accuracy: 0.9308928847312927, Test Loss: 2.344444990158081, Test Accuracy: 0.6742857098579407\n",
      "Epoch 68, Loss: 0.2025793045759201, Accuracy: 0.9380357265472412, Test Loss: 2.4403908252716064, Test Accuracy: 0.6671428680419922\n",
      "Epoch 69, Loss: 0.20638151466846466, Accuracy: 0.9305357336997986, Test Loss: 2.4369587898254395, Test Accuracy: 0.677142858505249\n",
      "Epoch 70, Loss: 0.21692584455013275, Accuracy: 0.9305357336997986, Test Loss: 2.3963141441345215, Test Accuracy: 0.6928571462631226\n",
      "Epoch 71, Loss: 0.21738672256469727, Accuracy: 0.933571457862854, Test Loss: 2.4325201511383057, Test Accuracy: 0.6785714030265808\n",
      "Epoch 72, Loss: 0.23723307251930237, Accuracy: 0.926964282989502, Test Loss: 2.473557710647583, Test Accuracy: 0.6857143044471741\n",
      "Epoch 73, Loss: 0.21306529641151428, Accuracy: 0.9321428537368774, Test Loss: 2.532172918319702, Test Accuracy: 0.6828571557998657\n",
      "Epoch 74, Loss: 0.20304900407791138, Accuracy: 0.9360714554786682, Test Loss: 2.5652451515197754, Test Accuracy: 0.691428542137146\n",
      "Epoch 75, Loss: 0.2142380326986313, Accuracy: 0.9285714030265808, Test Loss: 2.5641937255859375, Test Accuracy: 0.6885714530944824\n",
      "Epoch 76, Loss: 0.2063128501176834, Accuracy: 0.9317857027053833, Test Loss: 2.53971266746521, Test Accuracy: 0.677142858505249\n",
      "Epoch 77, Loss: 0.20428338646888733, Accuracy: 0.9367856979370117, Test Loss: 2.5760114192962646, Test Accuracy: 0.6757143139839172\n",
      "Epoch 78, Loss: 0.20283657312393188, Accuracy: 0.9348214268684387, Test Loss: 2.385695457458496, Test Accuracy: 0.6842857003211975\n",
      "Epoch 79, Loss: 0.19756808876991272, Accuracy: 0.9375, Test Loss: 2.632777214050293, Test Accuracy: 0.6828571557998657\n",
      "Epoch 80, Loss: 0.22974468767642975, Accuracy: 0.9275000095367432, Test Loss: 2.411827564239502, Test Accuracy: 0.6857143044471741\n",
      "Epoch 81, Loss: 0.1911521553993225, Accuracy: 0.9344642758369446, Test Loss: 2.5119452476501465, Test Accuracy: 0.6871428489685059\n",
      "Epoch 82, Loss: 0.17448097467422485, Accuracy: 0.9423214197158813, Test Loss: 2.6423377990722656, Test Accuracy: 0.6885714530944824\n",
      "Epoch 83, Loss: 0.1643921434879303, Accuracy: 0.9476785659790039, Test Loss: 2.5416862964630127, Test Accuracy: 0.6871428489685059\n",
      "Epoch 84, Loss: 0.18708620965480804, Accuracy: 0.9435714483261108, Test Loss: 2.680100679397583, Test Accuracy: 0.691428542137146\n",
      "Epoch 85, Loss: 0.2130056917667389, Accuracy: 0.9369642734527588, Test Loss: 2.583540916442871, Test Accuracy: 0.6728571653366089\n",
      "Epoch 86, Loss: 0.2010277658700943, Accuracy: 0.9383928775787354, Test Loss: 2.582157850265503, Test Accuracy: 0.6871428489685059\n",
      "Epoch 87, Loss: 0.21680445969104767, Accuracy: 0.9333928823471069, Test Loss: 2.667628526687622, Test Accuracy: 0.6842857003211975\n",
      "Epoch 88, Loss: 0.22174030542373657, Accuracy: 0.9301785826683044, Test Loss: 2.5584418773651123, Test Accuracy: 0.6642857193946838\n",
      "Epoch 89, Loss: 0.20543183386325836, Accuracy: 0.9358928799629211, Test Loss: 2.799041986465454, Test Accuracy: 0.6642857193946838\n",
      "Epoch 90, Loss: 0.20474980771541595, Accuracy: 0.9373214244842529, Test Loss: 2.7942676544189453, Test Accuracy: 0.6814285516738892\n",
      "Epoch 91, Loss: 0.22091560065746307, Accuracy: 0.9305357336997986, Test Loss: 2.7563068866729736, Test Accuracy: 0.6814285516738892\n",
      "Epoch 92, Loss: 0.21517515182495117, Accuracy: 0.9360714554786682, Test Loss: 3.022902727127075, Test Accuracy: 0.6528571248054504\n",
      "Epoch 93, Loss: 0.207454115152359, Accuracy: 0.9330357313156128, Test Loss: 2.857574224472046, Test Accuracy: 0.668571412563324\n",
      "Epoch 94, Loss: 0.19339321553707123, Accuracy: 0.9385714530944824, Test Loss: 2.8046586513519287, Test Accuracy: 0.6871428489685059\n",
      "Epoch 95, Loss: 0.2103157639503479, Accuracy: 0.9380357265472412, Test Loss: 2.6394379138946533, Test Accuracy: 0.677142858505249\n",
      "Epoch 96, Loss: 0.18299373984336853, Accuracy: 0.9408928751945496, Test Loss: 2.7597548961639404, Test Accuracy: 0.6885714530944824\n",
      "Epoch 97, Loss: 0.19520393013954163, Accuracy: 0.9421428442001343, Test Loss: 2.827016592025757, Test Accuracy: 0.6842857003211975\n",
      "Epoch 98, Loss: 0.18661899864673615, Accuracy: 0.9401785731315613, Test Loss: 2.603316068649292, Test Accuracy: 0.6828571557998657\n",
      "Epoch 99, Loss: 0.19411498308181763, Accuracy: 0.9398214221000671, Test Loss: 2.700709581375122, Test Accuracy: 0.6728571653366089\n",
      "Epoch 100, Loss: 0.185235396027565, Accuracy: 0.9416071176528931, Test Loss: 2.824368715286255, Test Accuracy: 0.6828571557998657\n"
     ]
    }
   ],
   "source": [
    "test_acc = []\n",
    "train_lo = []\n",
    "for epoch in range(no_epochs):\n",
    "    # Reset the metrics at the start of the next epoch\n",
    "    train_loss.reset_states()\n",
    "    train_accuracy.reset_states()\n",
    "    test_loss.reset_states()\n",
    "    test_accuracy.reset_states()\n",
    "\n",
    "    for images, labels in train_ds:\n",
    "        train_step(model, images, labels, drop_rate=0.5)\n",
    "\n",
    "    for images, labels in test_ds:\n",
    "        test_step(model, images, labels, drop_rate=0)\n",
    "\n",
    "    test_acc.append(test_accuracy.result())\n",
    "    train_lo.append(train_loss.result())\n",
    "    template = 'Epoch {}, Loss: {}, Accuracy: {}, Test Loss: {}, Test Accuracy: {}'\n",
    "    print (template.format(epoch+1,\n",
    "                          train_loss.result(),\n",
    "                          train_accuracy.result(),\n",
    "                          test_loss.result(),\n",
    "                          test_accuracy.result()))"
   ]
  },
  {
   "cell_type": "markdown",
   "metadata": {},
   "source": [
    "## Plot accuracy and loss curves"
   ]
  },
  {
   "cell_type": "code",
   "execution_count": 12,
   "metadata": {
    "colab": {
     "base_uri": "https://localhost:8080/",
     "height": 297
    },
    "executionInfo": {
     "elapsed": 64322,
     "status": "ok",
     "timestamp": 1605081665948,
     "user": {
      "displayName": "Mu Siyi",
      "photoUrl": "https://lh3.googleusercontent.com/a-/AOh14Gj8QgmJnhwClZ56sAt7RQhY0GcJe4BfDK1dGxf4ZQ=s64",
      "userId": "04695566065545999051"
     },
     "user_tz": -480
    },
    "id": "U-Qk7nEo90lp",
    "outputId": "d90e2a3b-ad7a-4354-d547-3fb9f51d3271"
   },
   "outputs": [
    {
     "data": {
      "text/plain": [
       "Text(0, 0.5, 'Train Loss')"
      ]
     },
     "execution_count": 12,
     "metadata": {
      "tags": []
     },
     "output_type": "execute_result"
    },
    {
     "data": {
      "image/png": "[encoded data removed]",
      "text/plain": [
       "<Figure size 432x288 with 1 Axes>"
      ]
     },
     "metadata": {
      "needs_background": "light",
      "tags": []
     },
     "output_type": "display_data"
    }
   ],
   "source": [
    "# Plot train loss\n",
    "pylab.figure()\n",
    "pylab.plot(np.arange(no_epochs), train_lo)\n",
    "pylab.xlabel('epochs')\n",
    "pylab.ylabel('Train Loss')"
   ]
  },
  {
   "cell_type": "code",
   "execution_count": 13,
   "metadata": {
    "colab": {
     "base_uri": "https://localhost:8080/",
     "height": 297
    },
    "executionInfo": {
     "elapsed": 64662,
     "status": "ok",
     "timestamp": 1605081666294,
     "user": {
      "displayName": "Mu Siyi",
      "photoUrl": "https://lh3.googleusercontent.com/a-/AOh14Gj8QgmJnhwClZ56sAt7RQhY0GcJe4BfDK1dGxf4ZQ=s64",
      "userId": "04695566065545999051"
     },
     "user_tz": -480
    },
    "id": "YYnaUtJFEEs7",
    "outputId": "155e671c-58c6-43b8-a8b4-343fb6cff7a3"
   },
   "outputs": [
    {
     "data": {
      "text/plain": [
       "Text(0, 0.5, 'Test Accuracy')"
      ]
     },
     "execution_count": 13,
     "metadata": {
      "tags": []
     },
     "output_type": "execute_result"
    },
    {
     "data": {
      "image/png": "[encoded data removed]",
      "text/plain": [
       "<Figure size 432x288 with 1 Axes>"
      ]
     },
     "metadata": {
      "needs_background": "light",
      "tags": []
     },
     "output_type": "display_data"
    }
   ],
   "source": [
    "# Plot test accuracy\n",
    "pylab.figure()\n",
    "pylab.plot(np.arange(no_epochs), test_acc)\n",
    "pylab.xlabel('epochs')\n",
    "pylab.ylabel('Test Accuracy')"
   ]
  }
 ],
 "metadata": {
  "accelerator": "GPU",
  "colab": {
   "authorship_tag": "ABX9TyOje2j8mwHLGDWgLpht45xj",
   "collapsed_sections": [],
   "name": "Mu_Siyi_TaskB_CNN_char.ipynb",
   "provenance": []
  },
  "kernelspec": {
   "display_name": "Python 3",
   "language": "python",
   "name": "python3"
  },
  "language_info": {
   "codemirror_mode": {
    "name": "ipython",
    "version": 3
   },
   "file_extension": ".py",
   "mimetype": "text/x-python",
   "name": "python",
   "nbconvert_exporter": "python",
   "pygments_lexer": "ipython3",
   "version": "3.8.5"
  }
 },
 "nbformat": 4,
 "nbformat_minor": 1
}
