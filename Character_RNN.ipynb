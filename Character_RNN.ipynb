{
 "cells": [
  {
   "cell_type": "markdown",
   "metadata": {},
   "source": [
    "# Character RNN Classifier"
   ]
  },
  {
   "cell_type": "code",
   "execution_count": 1,
   "metadata": {
    "executionInfo": {
     "elapsed": 2059,
     "status": "ok",
     "timestamp": 1605017801999,
     "user": {
      "displayName": "Mu Siyi",
      "photoUrl": "https://lh3.googleusercontent.com/a-/AOh14Gj8QgmJnhwClZ56sAt7RQhY0GcJe4BfDK1dGxf4ZQ=s64",
      "userId": "04695566065545999051"
     },
     "user_tz": -480
    },
    "id": "0BsPHUti2ZvC"
   },
   "outputs": [],
   "source": [
    "import numpy as np\n",
    "import tensorflow as tf\n",
    "from tensorflow.keras import Model, layers\n",
    "import csv\n",
    "import re\n",
    "import pylab\n",
    "import matplotlib.pyplot as plt"
   ]
  },
  {
   "cell_type": "code",
   "execution_count": 2,
   "metadata": {
    "executionInfo": {
     "elapsed": 2057,
     "status": "ok",
     "timestamp": 1605017802001,
     "user": {
      "displayName": "Mu Siyi",
      "photoUrl": "https://lh3.googleusercontent.com/a-/AOh14Gj8QgmJnhwClZ56sAt7RQhY0GcJe4BfDK1dGxf4ZQ=s64",
      "userId": "04695566065545999051"
     },
     "user_tz": -480
    },
    "id": "oUfCwguj4ucu"
   },
   "outputs": [],
   "source": [
    "MAX_DOCUMENT_LENGTH = 100\n",
    "HIDDEN_SIZE = 20\n",
    "MAX_LABEL = 15\n",
    "\n",
    "batch_size = 128\n",
    "one_hot_size = 256\n",
    "no_epochs = 100\n",
    "lr = 0.01\n",
    "\n",
    "seed = 10\n",
    "tf.random.set_seed(seed)\n"
   ]
  },
  {
   "cell_type": "markdown",
   "metadata": {},
   "source": [
    "## Read data"
   ]
  },
  {
   "cell_type": "code",
   "execution_count": 3,
   "metadata": {
    "executionInfo": {
     "elapsed": 2056,
     "status": "ok",
     "timestamp": 1605017802003,
     "user": {
      "displayName": "Mu Siyi",
      "photoUrl": "https://lh3.googleusercontent.com/a-/AOh14Gj8QgmJnhwClZ56sAt7RQhY0GcJe4BfDK1dGxf4ZQ=s64",
      "userId": "04695566065545999051"
     },
     "user_tz": -480
    },
    "id": "7GI9Ic0s454w"
   },
   "outputs": [],
   "source": [
    "# Read data with [character]\n",
    "def vocabulary(strings):\n",
    "    chars = sorted(list(set(list(''.join(strings)))))\n",
    "    char_to_ix = { ch:i for i,ch in enumerate(chars) }\n",
    "    vocab_size = len(chars)\n",
    "    return vocab_size, char_to_ix"
   ]
  },
  {
   "cell_type": "code",
   "execution_count": 4,
   "metadata": {
    "executionInfo": {
     "elapsed": 2053,
     "status": "ok",
     "timestamp": 1605017802004,
     "user": {
      "displayName": "Mu Siyi",
      "photoUrl": "https://lh3.googleusercontent.com/a-/AOh14Gj8QgmJnhwClZ56sAt7RQhY0GcJe4BfDK1dGxf4ZQ=s64",
      "userId": "04695566065545999051"
     },
     "user_tz": -480
    },
    "id": "pcc6PMth9cDD"
   },
   "outputs": [],
   "source": [
    "def preprocess(strings, char_to_ix, MAX_LENGTH):\n",
    "    data_chars = [list(d.lower()) for _, d in enumerate(strings)]\n",
    "    for i, d in enumerate(data_chars):\n",
    "        if len(d)>MAX_LENGTH:\n",
    "            d = d[:MAX_LENGTH]\n",
    "        elif len(d) < MAX_LENGTH:\n",
    "            d += [' '] * (MAX_LENGTH - len(d))\n",
    "            \n",
    "    data_ids = np.zeros([len(data_chars), MAX_LENGTH], dtype=np.int64)\n",
    "    for i in range(len(data_chars)):\n",
    "        for j in range(MAX_LENGTH):\n",
    "            data_ids[i, j] = char_to_ix[data_chars[i][j]]\n",
    "    return np.array(data_ids)"
   ]
  },
  {
   "cell_type": "code",
   "execution_count": 5,
   "metadata": {
    "executionInfo": {
     "elapsed": 2052,
     "status": "ok",
     "timestamp": 1605017802006,
     "user": {
      "displayName": "Mu Siyi",
      "photoUrl": "https://lh3.googleusercontent.com/a-/AOh14Gj8QgmJnhwClZ56sAt7RQhY0GcJe4BfDK1dGxf4ZQ=s64",
      "userId": "04695566065545999051"
     },
     "user_tz": -480
    },
    "id": "RO-WVZrw5FIr"
   },
   "outputs": [],
   "source": [
    "def read_data_chars():\n",
    "    x_train, y_train, x_test, y_test = [], [], [], []\n",
    "    cop = re.compile(\"[^a-z^A-Z^0-9^,^.^' ']\")\n",
    "    with open('/content/drive/My Drive/tensorflow/train_medium.csv', encoding='utf-8') as filex:\n",
    "        reader = csv.reader(filex)\n",
    "        for row in reader:\n",
    "            data = cop.sub(\"\", row[1])\n",
    "            x_train.append(data)\n",
    "            y_train.append(int(row[0]))\n",
    "\n",
    "    with open('/content/drive/My Drive/tensorflow/test_medium.csv', encoding='utf-8') as filex:\n",
    "        reader = csv.reader(filex)\n",
    "        for row in reader:\n",
    "            data = cop.sub(\"\", row[1])\n",
    "            x_test.append(data)\n",
    "            y_test.append(int(row[0]))\n",
    "\n",
    "    vocab_size, char_to_ix = vocabulary(x_train+x_test)\n",
    "    x_train = preprocess(x_train, char_to_ix, MAX_DOCUMENT_LENGTH)\n",
    "    y_train = np.array(y_train)\n",
    "    x_test = preprocess(x_test, char_to_ix, MAX_DOCUMENT_LENGTH)\n",
    "    y_test = np.array(y_test)\n",
    "\n",
    "    x_train = tf.constant(x_train, dtype=tf.int64)\n",
    "    y_train = tf.constant(y_train, dtype=tf.int64)\n",
    "    x_test = tf.constant(x_test, dtype=tf.int64)\n",
    "    y_test = tf.constant(y_test, dtype=tf.int64)\n",
    "\n",
    "    return x_train, y_train, x_test, y_test"
   ]
  },
  {
   "cell_type": "code",
   "execution_count": 6,
   "metadata": {
    "executionInfo": {
     "elapsed": 3079,
     "status": "ok",
     "timestamp": 1605017803036,
     "user": {
      "displayName": "Mu Siyi",
      "photoUrl": "https://lh3.googleusercontent.com/a-/AOh14Gj8QgmJnhwClZ56sAt7RQhY0GcJe4BfDK1dGxf4ZQ=s64",
      "userId": "04695566065545999051"
     },
     "user_tz": -480
    },
    "id": "JnzNaiJG5WXQ"
   },
   "outputs": [],
   "source": [
    "x_train, y_train, x_test, y_test = read_data_chars()\n",
    "# Use `tf.data` to batch and shuffle the dataset:\n",
    "train_ds = tf.data.Dataset.from_tensor_slices(\n",
    "    (x_train, y_train)).shuffle(10000).batch(batch_size)\n",
    "test_ds = tf.data.Dataset.from_tensor_slices((x_test, y_test)).batch(batch_size)"
   ]
  },
  {
   "cell_type": "markdown",
   "metadata": {},
   "source": [
    "## Build model"
   ]
  },
  {
   "cell_type": "code",
   "execution_count": 7,
   "metadata": {
    "executionInfo": {
     "elapsed": 3078,
     "status": "ok",
     "timestamp": 1605017803038,
     "user": {
      "displayName": "Mu Siyi",
      "photoUrl": "https://lh3.googleusercontent.com/a-/AOh14Gj8QgmJnhwClZ56sAt7RQhY0GcJe4BfDK1dGxf4ZQ=s64",
      "userId": "04695566065545999051"
     },
     "user_tz": -480
    },
    "id": "uR48smmb5fRG"
   },
   "outputs": [],
   "source": [
    "# Build model\n",
    "tf.keras.backend.set_floatx('float32')\n",
    "class CharRNN(Model):\n",
    "\n",
    "    def __init__(self, vocab_size, hidden_dim=10):\n",
    "        super(CharRNN, self).__init__()\n",
    "        # Hyperparameters\n",
    "        self.hidden_dim = hidden_dim\n",
    "        self.vocab_size = vocab_size\n",
    "        # Weight variables and RNN cell\n",
    "        self.rnn = layers.RNN(tf.keras.layers.GRUCell(self.hidden_dim), unroll=True) # GRU\n",
    "        #self.rnn2 = layers.RNN(tf.keras.layers.GRUCell(self.hidden_dim), unroll=True) # GRU2\n",
    "        #self.rnn = layers.RNN(tf.keras.layers.SimpleRNNCell(self.hidden_dim), unroll=True) # Vanilla RNN\n",
    "        #self.rnn = layers.RNN(tf.keras.layers.LSTMCell(self.hidden_dim), unroll=True) # LSTM\n",
    "        self.dense = layers.Dense(MAX_LABEL, activation='softmax')\n",
    "\n",
    "    def call(self, x, drop_rate):\n",
    "        # forward logic\n",
    "        x = tf.one_hot(x, one_hot_size)\n",
    "        encoding = self.rnn(x)\n",
    "        #encoding = self.rnn2(encoding)\n",
    "        #encoding = tf.nn.dropout(encoding, drop_rate) \n",
    "        logits = self.dense(encoding)\n",
    "    \n",
    "        return logits"
   ]
  },
  {
   "cell_type": "code",
   "execution_count": 8,
   "metadata": {
    "executionInfo": {
     "elapsed": 3076,
     "status": "ok",
     "timestamp": 1605017803039,
     "user": {
      "displayName": "Mu Siyi",
      "photoUrl": "https://lh3.googleusercontent.com/a-/AOh14Gj8QgmJnhwClZ56sAt7RQhY0GcJe4BfDK1dGxf4ZQ=s64",
      "userId": "04695566065545999051"
     },
     "user_tz": -480
    },
    "id": "xHqdIaJH5Qt1"
   },
   "outputs": [],
   "source": [
    "model = CharRNN(256, HIDDEN_SIZE)\n",
    "\n",
    "# Choose optimizer and loss function for training\n",
    "loss_object = tf.keras.losses.SparseCategoricalCrossentropy()\n",
    "optimizer = tf.keras.optimizers.Adam(learning_rate=lr, clipvalue = 2) # Gradient Clipping\n",
    "\n",
    "# Select metrics to measure the loss and the accuracy of the model. \n",
    "# These metrics accumulate the values over epochs and then print the overall result.\n",
    "train_loss = tf.keras.metrics.Mean(name='train_loss')\n",
    "train_accuracy = tf.keras.metrics.SparseCategoricalAccuracy(name='train_accuracy')\n",
    "\n",
    "test_loss = tf.keras.metrics.Mean(name='test_loss')\n",
    "test_accuracy = tf.keras.metrics.SparseCategoricalAccuracy(name='test_accuracy')\n"
   ]
  },
  {
   "cell_type": "markdown",
   "metadata": {},
   "source": [
    "## Functions for training and testing"
   ]
  },
  {
   "cell_type": "code",
   "execution_count": 9,
   "metadata": {
    "executionInfo": {
     "elapsed": 3074,
     "status": "ok",
     "timestamp": 1605017803041,
     "user": {
      "displayName": "Mu Siyi",
      "photoUrl": "https://lh3.googleusercontent.com/a-/AOh14Gj8QgmJnhwClZ56sAt7RQhY0GcJe4BfDK1dGxf4ZQ=s64",
      "userId": "04695566065545999051"
     },
     "user_tz": -480
    },
    "id": "VTv5gLN76Jl1"
   },
   "outputs": [],
   "source": [
    "# Training function\n",
    "def train_step(model, x, label, drop_rate):\n",
    "    with tf.GradientTape() as tape:\n",
    "        out = model(x, drop_rate)\n",
    "        loss = loss_object(label, out)\n",
    "        gradients = tape.gradient(loss, model.trainable_variables)\n",
    "        optimizer.apply_gradients(zip(gradients, model.trainable_variables))\n",
    "        \n",
    "    train_loss(loss)\n",
    "    train_accuracy(labels, out)"
   ]
  },
  {
   "cell_type": "code",
   "execution_count": 10,
   "metadata": {
    "executionInfo": {
     "elapsed": 3071,
     "status": "ok",
     "timestamp": 1605017803041,
     "user": {
      "displayName": "Mu Siyi",
      "photoUrl": "https://lh3.googleusercontent.com/a-/AOh14Gj8QgmJnhwClZ56sAt7RQhY0GcJe4BfDK1dGxf4ZQ=s64",
      "userId": "04695566065545999051"
     },
     "user_tz": -480
    },
    "id": "9C23-PRs6QxG"
   },
   "outputs": [],
   "source": [
    "# Testing function\n",
    "def test_step(model, x, label, drop_rate=0):\n",
    "    out = model(x,drop_rate)\n",
    "    t_loss = loss_object(label, out)\n",
    "    test_loss(t_loss)\n",
    "    test_accuracy(label, out)"
   ]
  },
  {
   "cell_type": "markdown",
   "metadata": {},
   "source": [
    "## Train model"
   ]
  },
  {
   "cell_type": "code",
   "execution_count": 11,
   "metadata": {
    "colab": {
     "base_uri": "https://localhost:8080/"
    },
    "executionInfo": {
     "elapsed": 824176,
     "status": "ok",
     "timestamp": 1605018624155,
     "user": {
      "displayName": "Mu Siyi",
      "photoUrl": "https://lh3.googleusercontent.com/a-/AOh14Gj8QgmJnhwClZ56sAt7RQhY0GcJe4BfDK1dGxf4ZQ=s64",
      "userId": "04695566065545999051"
     },
     "user_tz": -480
    },
    "id": "A0X5HB8V6TlO",
    "outputId": "a38fa1a3-dca0-475e-dd95-7fc2c8c8b7f9"
   },
   "outputs": [
    {
     "name": "stdout",
     "output_type": "stream",
     "text": [
      "Epoch 1, Loss: 2.6424436569213867, Accuracy: 0.08749999850988388, Test Loss: 2.599637746810913, Test Accuracy: 0.11571428924798965\n",
      "Epoch 2, Loss: 2.582338571548462, Accuracy: 0.11821428686380386, Test Loss: 2.5360214710235596, Test Accuracy: 0.11428571492433548\n",
      "Epoch 3, Loss: 2.3481719493865967, Accuracy: 0.18535713851451874, Test Loss: 2.2858169078826904, Test Accuracy: 0.20571428537368774\n",
      "Epoch 4, Loss: 2.096890687942505, Accuracy: 0.2596428692340851, Test Loss: 2.0515949726104736, Test Accuracy: 0.2914285659790039\n",
      "Epoch 5, Loss: 1.8945132493972778, Accuracy: 0.33250001072883606, Test Loss: 1.8233146667480469, Test Accuracy: 0.36142855882644653\n",
      "Epoch 6, Loss: 1.641984462738037, Accuracy: 0.4348214268684387, Test Loss: 1.5899138450622559, Test Accuracy: 0.4528571367263794\n",
      "Epoch 7, Loss: 1.4462507963180542, Accuracy: 0.4982142746448517, Test Loss: 1.4201141595840454, Test Accuracy: 0.5042856931686401\n",
      "Epoch 8, Loss: 1.3080333471298218, Accuracy: 0.550000011920929, Test Loss: 1.357061743736267, Test Accuracy: 0.5185714364051819\n",
      "Epoch 9, Loss: 1.194757342338562, Accuracy: 0.5883928537368774, Test Loss: 1.2892019748687744, Test Accuracy: 0.5671428442001343\n",
      "Epoch 10, Loss: 1.135270118713379, Accuracy: 0.6119642853736877, Test Loss: 1.2508759498596191, Test Accuracy: 0.5799999833106995\n",
      "Epoch 11, Loss: 1.058017611503601, Accuracy: 0.6419642567634583, Test Loss: 1.198503851890564, Test Accuracy: 0.6000000238418579\n",
      "Epoch 12, Loss: 0.985975980758667, Accuracy: 0.6650000214576721, Test Loss: 1.151487112045288, Test Accuracy: 0.6257143020629883\n",
      "Epoch 13, Loss: 0.9447736740112305, Accuracy: 0.6800000071525574, Test Loss: 1.096305251121521, Test Accuracy: 0.6442857384681702\n",
      "Epoch 14, Loss: 0.8935829401016235, Accuracy: 0.6964285969734192, Test Loss: 1.0822443962097168, Test Accuracy: 0.6471428275108337\n",
      "Epoch 15, Loss: 0.8434795141220093, Accuracy: 0.7139285802841187, Test Loss: 1.113236904144287, Test Accuracy: 0.6485714316368103\n",
      "Epoch 16, Loss: 0.803985595703125, Accuracy: 0.7275000214576721, Test Loss: 1.0870962142944336, Test Accuracy: 0.6628571152687073\n",
      "Epoch 17, Loss: 0.7663875222206116, Accuracy: 0.7371428608894348, Test Loss: 1.0571852922439575, Test Accuracy: 0.6785714030265808\n",
      "Epoch 18, Loss: 0.7303028702735901, Accuracy: 0.7553571462631226, Test Loss: 1.0870791673660278, Test Accuracy: 0.6657142639160156\n",
      "Epoch 19, Loss: 0.7009491920471191, Accuracy: 0.7674999833106995, Test Loss: 1.0330368280410767, Test Accuracy: 0.6714285612106323\n",
      "Epoch 20, Loss: 0.6812371015548706, Accuracy: 0.7714285850524902, Test Loss: 1.004415512084961, Test Accuracy: 0.691428542137146\n",
      "Epoch 21, Loss: 0.6506848931312561, Accuracy: 0.7791071534156799, Test Loss: 0.9955738186836243, Test Accuracy: 0.699999988079071\n",
      "Epoch 22, Loss: 0.6249150633811951, Accuracy: 0.7928571701049805, Test Loss: 1.0057367086410522, Test Accuracy: 0.6957142949104309\n",
      "Epoch 23, Loss: 0.6093272566795349, Accuracy: 0.7991071343421936, Test Loss: 1.0120805501937866, Test Accuracy: 0.6957142949104309\n",
      "Epoch 24, Loss: 0.6035323739051819, Accuracy: 0.7971428632736206, Test Loss: 1.0007023811340332, Test Accuracy: 0.6857143044471741\n",
      "Epoch 25, Loss: 0.5895341634750366, Accuracy: 0.8057143092155457, Test Loss: 0.9954423904418945, Test Accuracy: 0.691428542137146\n",
      "Epoch 26, Loss: 0.5733094811439514, Accuracy: 0.8114285469055176, Test Loss: 1.0447713136672974, Test Accuracy: 0.6942856907844543\n",
      "Epoch 27, Loss: 0.5580248236656189, Accuracy: 0.8162500262260437, Test Loss: 0.9805736541748047, Test Accuracy: 0.6899999976158142\n",
      "Epoch 28, Loss: 0.5411192774772644, Accuracy: 0.8180357217788696, Test Loss: 1.0264314413070679, Test Accuracy: 0.6971428394317627\n",
      "Epoch 29, Loss: 0.5330736637115479, Accuracy: 0.8216071724891663, Test Loss: 1.015229344367981, Test Accuracy: 0.7114285826683044\n",
      "Epoch 30, Loss: 0.5125810503959656, Accuracy: 0.8305357098579407, Test Loss: 1.0286248922348022, Test Accuracy: 0.699999988079071\n",
      "Epoch 31, Loss: 0.48631250858306885, Accuracy: 0.8382142782211304, Test Loss: 1.053841233253479, Test Accuracy: 0.7114285826683044\n",
      "Epoch 32, Loss: 0.487947940826416, Accuracy: 0.8430356979370117, Test Loss: 1.080716609954834, Test Accuracy: 0.6971428394317627\n",
      "Epoch 33, Loss: 0.4573362469673157, Accuracy: 0.8517857193946838, Test Loss: 1.1060460805892944, Test Accuracy: 0.7028571367263794\n",
      "Epoch 34, Loss: 0.45052632689476013, Accuracy: 0.8544642925262451, Test Loss: 1.0880835056304932, Test Accuracy: 0.7057142853736877\n",
      "Epoch 35, Loss: 0.4454953968524933, Accuracy: 0.854285717010498, Test Loss: 1.151680588722229, Test Accuracy: 0.7114285826683044\n",
      "Epoch 36, Loss: 0.4685250520706177, Accuracy: 0.8467857241630554, Test Loss: 1.1046359539031982, Test Accuracy: 0.6871428489685059\n",
      "Epoch 37, Loss: 0.4459425210952759, Accuracy: 0.8564285635948181, Test Loss: 1.0850352048873901, Test Accuracy: 0.6971428394317627\n",
      "Epoch 38, Loss: 0.46876809000968933, Accuracy: 0.8478571176528931, Test Loss: 1.112289547920227, Test Accuracy: 0.7071428298950195\n",
      "Epoch 39, Loss: 0.44958704710006714, Accuracy: 0.8482142686843872, Test Loss: 1.15126633644104, Test Accuracy: 0.7071428298950195\n",
      "Epoch 40, Loss: 0.4478675127029419, Accuracy: 0.852142870426178, Test Loss: 1.183261752128601, Test Accuracy: 0.6985714435577393\n",
      "Epoch 41, Loss: 0.44389885663986206, Accuracy: 0.8596428632736206, Test Loss: 1.0811052322387695, Test Accuracy: 0.7185714244842529\n",
      "Epoch 42, Loss: 0.40197744965553284, Accuracy: 0.8716071248054504, Test Loss: 1.1017645597457886, Test Accuracy: 0.7114285826683044\n",
      "Epoch 43, Loss: 0.3808384835720062, Accuracy: 0.876964271068573, Test Loss: 1.1107662916183472, Test Accuracy: 0.7114285826683044\n",
      "Epoch 44, Loss: 0.38147303462028503, Accuracy: 0.8785714507102966, Test Loss: 1.152117133140564, Test Accuracy: 0.704285740852356\n",
      "Epoch 45, Loss: 0.3878370523452759, Accuracy: 0.8739285469055176, Test Loss: 1.1482681035995483, Test Accuracy: 0.699999988079071\n",
      "Epoch 46, Loss: 0.45349323749542236, Accuracy: 0.8508928418159485, Test Loss: 1.1637181043624878, Test Accuracy: 0.6971428394317627\n",
      "Epoch 47, Loss: 0.4037688374519348, Accuracy: 0.8648214340209961, Test Loss: 1.143707513809204, Test Accuracy: 0.6928571462631226\n",
      "Epoch 48, Loss: 0.3851999044418335, Accuracy: 0.875, Test Loss: 1.1877073049545288, Test Accuracy: 0.6985714435577393\n",
      "Epoch 49, Loss: 0.3910427987575531, Accuracy: 0.8717857003211975, Test Loss: 1.1942577362060547, Test Accuracy: 0.7057142853736877\n",
      "Epoch 50, Loss: 0.4322749376296997, Accuracy: 0.8564285635948181, Test Loss: 1.0522220134735107, Test Accuracy: 0.699999988079071\n",
      "Epoch 51, Loss: 0.4090961217880249, Accuracy: 0.8642857074737549, Test Loss: 1.0986430644989014, Test Accuracy: 0.7114285826683044\n",
      "Epoch 52, Loss: 0.3658406436443329, Accuracy: 0.8858928680419922, Test Loss: 1.1394853591918945, Test Accuracy: 0.704285740852356\n",
      "Epoch 53, Loss: 0.3440030515193939, Accuracy: 0.887321412563324, Test Loss: 1.1468449831008911, Test Accuracy: 0.7200000286102295\n",
      "Epoch 54, Loss: 0.34563595056533813, Accuracy: 0.8889285922050476, Test Loss: 1.1561527252197266, Test Accuracy: 0.7071428298950195\n",
      "Epoch 55, Loss: 0.34777677059173584, Accuracy: 0.8860714435577393, Test Loss: 1.2957922220230103, Test Accuracy: 0.691428542137146\n",
      "Epoch 56, Loss: 0.40840816497802734, Accuracy: 0.8671428561210632, Test Loss: 1.2461127042770386, Test Accuracy: 0.6971428394317627\n",
      "Epoch 57, Loss: 0.39217230677604675, Accuracy: 0.8760714530944824, Test Loss: 1.1618683338165283, Test Accuracy: 0.7028571367263794\n",
      "Epoch 58, Loss: 0.34363487362861633, Accuracy: 0.8871428370475769, Test Loss: 1.2350252866744995, Test Accuracy: 0.7057142853736877\n",
      "Epoch 59, Loss: 0.3497290313243866, Accuracy: 0.8871428370475769, Test Loss: 1.2419627904891968, Test Accuracy: 0.6800000071525574\n",
      "Epoch 60, Loss: 0.39014169573783875, Accuracy: 0.8762500286102295, Test Loss: 1.2320626974105835, Test Accuracy: 0.7057142853736877\n",
      "Epoch 61, Loss: 0.34942182898521423, Accuracy: 0.889464259147644, Test Loss: 1.2300046682357788, Test Accuracy: 0.7028571367263794\n",
      "Epoch 62, Loss: 0.32807058095932007, Accuracy: 0.8928571343421936, Test Loss: 1.3235169649124146, Test Accuracy: 0.6957142949104309\n",
      "Epoch 63, Loss: 0.335811972618103, Accuracy: 0.8942857384681702, Test Loss: 1.2529172897338867, Test Accuracy: 0.7014285922050476\n",
      "Epoch 64, Loss: 0.3136298954486847, Accuracy: 0.8966071605682373, Test Loss: 1.2938586473464966, Test Accuracy: 0.7114285826683044\n",
      "Epoch 65, Loss: 0.33892783522605896, Accuracy: 0.8901785612106323, Test Loss: 1.3847907781600952, Test Accuracy: 0.704285740852356\n",
      "Epoch 66, Loss: 0.358808696269989, Accuracy: 0.8810714483261108, Test Loss: 1.289797067642212, Test Accuracy: 0.7085714340209961\n",
      "Epoch 67, Loss: 0.29856550693511963, Accuracy: 0.9073214530944824, Test Loss: 1.293833613395691, Test Accuracy: 0.727142870426178\n",
      "Epoch 68, Loss: 0.2858206629753113, Accuracy: 0.9112499952316284, Test Loss: 1.329349160194397, Test Accuracy: 0.7014285922050476\n",
      "Epoch 69, Loss: 0.32065242528915405, Accuracy: 0.8964285850524902, Test Loss: 1.278442144393921, Test Accuracy: 0.7057142853736877\n",
      "Epoch 70, Loss: 0.2964535653591156, Accuracy: 0.9037500023841858, Test Loss: 1.2664234638214111, Test Accuracy: 0.7114285826683044\n",
      "Epoch 71, Loss: 0.33512362837791443, Accuracy: 0.8901785612106323, Test Loss: 1.1922441720962524, Test Accuracy: 0.7099999785423279\n",
      "Epoch 72, Loss: 0.32495400309562683, Accuracy: 0.8991071581840515, Test Loss: 1.2574117183685303, Test Accuracy: 0.7185714244842529\n",
      "Epoch 73, Loss: 0.365850567817688, Accuracy: 0.881428599357605, Test Loss: 1.36185884475708, Test Accuracy: 0.7171428799629211\n",
      "Epoch 74, Loss: 0.3186800479888916, Accuracy: 0.8983928561210632, Test Loss: 1.2535977363586426, Test Accuracy: 0.7114285826683044\n",
      "Epoch 75, Loss: 0.27767789363861084, Accuracy: 0.9133928418159485, Test Loss: 1.2896268367767334, Test Accuracy: 0.7171428799629211\n",
      "Epoch 76, Loss: 0.2692887783050537, Accuracy: 0.9151785969734192, Test Loss: 1.3462845087051392, Test Accuracy: 0.7057142853736877\n",
      "Epoch 77, Loss: 0.2900080978870392, Accuracy: 0.9076785445213318, Test Loss: 1.3502839803695679, Test Accuracy: 0.7028571367263794\n",
      "Epoch 78, Loss: 0.2832632064819336, Accuracy: 0.9094642996788025, Test Loss: 1.2596185207366943, Test Accuracy: 0.7242857217788696\n",
      "Epoch 79, Loss: 0.2723900377750397, Accuracy: 0.914821445941925, Test Loss: 1.34996497631073, Test Accuracy: 0.7157142758369446\n",
      "Epoch 80, Loss: 0.25845080614089966, Accuracy: 0.9205357432365417, Test Loss: 1.3198084831237793, Test Accuracy: 0.7128571271896362\n",
      "Epoch 81, Loss: 0.3046736717224121, Accuracy: 0.9008928537368774, Test Loss: 1.3261631727218628, Test Accuracy: 0.6985714435577393\n",
      "Epoch 82, Loss: 0.3182890713214874, Accuracy: 0.8973214030265808, Test Loss: 1.399037480354309, Test Accuracy: 0.7028571367263794\n",
      "Epoch 83, Loss: 0.3114069998264313, Accuracy: 0.9019643068313599, Test Loss: 1.2690693140029907, Test Accuracy: 0.7071428298950195\n",
      "Epoch 84, Loss: 0.3494558036327362, Accuracy: 0.885535717010498, Test Loss: 1.4781826734542847, Test Accuracy: 0.6971428394317627\n",
      "Epoch 85, Loss: 0.31725409626960754, Accuracy: 0.8960714340209961, Test Loss: 1.3305134773254395, Test Accuracy: 0.6971428394317627\n",
      "Epoch 86, Loss: 0.28854644298553467, Accuracy: 0.9083928465843201, Test Loss: 1.322313904762268, Test Accuracy: 0.7157142758369446\n",
      "Epoch 87, Loss: 0.273300439119339, Accuracy: 0.9105356931686401, Test Loss: 1.3132411241531372, Test Accuracy: 0.7128571271896362\n",
      "Epoch 88, Loss: 0.2981983423233032, Accuracy: 0.9064285755157471, Test Loss: 1.4193156957626343, Test Accuracy: 0.7057142853736877\n",
      "Epoch 89, Loss: 0.2477460354566574, Accuracy: 0.9219642877578735, Test Loss: 1.3173471689224243, Test Accuracy: 0.7228571176528931\n",
      "Epoch 90, Loss: 0.2422252744436264, Accuracy: 0.925178587436676, Test Loss: 1.4333473443984985, Test Accuracy: 0.7014285922050476\n",
      "Epoch 91, Loss: 0.24057535827159882, Accuracy: 0.9237499833106995, Test Loss: 1.3596614599227905, Test Accuracy: 0.7014285922050476\n",
      "Epoch 92, Loss: 0.23245085775852203, Accuracy: 0.927142858505249, Test Loss: 1.367918610572815, Test Accuracy: 0.7157142758369446\n",
      "Epoch 93, Loss: 0.22563400864601135, Accuracy: 0.9257143139839172, Test Loss: 1.3877196311950684, Test Accuracy: 0.7142857313156128\n",
      "Epoch 94, Loss: 0.32653751969337463, Accuracy: 0.8973214030265808, Test Loss: 1.3721829652786255, Test Accuracy: 0.6985714435577393\n",
      "Epoch 95, Loss: 0.3981400430202484, Accuracy: 0.8669642806053162, Test Loss: 1.3946722745895386, Test Accuracy: 0.6899999976158142\n",
      "Epoch 96, Loss: 0.3157022297382355, Accuracy: 0.8928571343421936, Test Loss: 1.3550645112991333, Test Accuracy: 0.7014285922050476\n",
      "Epoch 97, Loss: 0.40538185834884644, Accuracy: 0.8657143115997314, Test Loss: 1.2939472198486328, Test Accuracy: 0.7028571367263794\n",
      "Epoch 98, Loss: 0.28601527214050293, Accuracy: 0.9030357003211975, Test Loss: 1.3473459482192993, Test Accuracy: 0.7099999785423279\n",
      "Epoch 99, Loss: 0.25386369228363037, Accuracy: 0.9200000166893005, Test Loss: 1.3219457864761353, Test Accuracy: 0.7128571271896362\n",
      "Epoch 100, Loss: 0.23813924193382263, Accuracy: 0.9232142567634583, Test Loss: 1.3776694536209106, Test Accuracy: 0.7171428799629211\n"
     ]
    }
   ],
   "source": [
    "test_acc = []\n",
    "train_lo = []\n",
    "for epoch in range(no_epochs):\n",
    "    # Reset the metrics at the start of the next epoch\n",
    "    train_loss.reset_states()\n",
    "    train_accuracy.reset_states()\n",
    "    test_loss.reset_states()\n",
    "    test_accuracy.reset_states()\n",
    "\n",
    "    for images, labels in train_ds:\n",
    "        train_step(model, images, labels, drop_rate=0.5)\n",
    "\n",
    "    for images, labels in test_ds:\n",
    "        test_step(model, images, labels, drop_rate=0)\n",
    "\n",
    "    test_acc.append(test_accuracy.result())\n",
    "    train_lo.append(train_loss.result())\n",
    "    template = 'Epoch {}, Loss: {}, Accuracy: {}, Test Loss: {}, Test Accuracy: {}'\n",
    "    print (template.format(epoch+1,\n",
    "                          train_loss.result(),\n",
    "                          train_accuracy.result(),\n",
    "                          test_loss.result(),\n",
    "                          test_accuracy.result()))"
   ]
  },
  {
   "cell_type": "markdown",
   "metadata": {},
   "source": [
    "## Plot accuracy and loss curves"
   ]
  },
  {
   "cell_type": "code",
   "execution_count": 12,
   "metadata": {
    "colab": {
     "base_uri": "https://localhost:8080/",
     "height": 297
    },
    "executionInfo": {
     "elapsed": 824175,
     "status": "ok",
     "timestamp": 1605018624159,
     "user": {
      "displayName": "Mu Siyi",
      "photoUrl": "https://lh3.googleusercontent.com/a-/AOh14Gj8QgmJnhwClZ56sAt7RQhY0GcJe4BfDK1dGxf4ZQ=s64",
      "userId": "04695566065545999051"
     },
     "user_tz": -480
    },
    "id": "U-Qk7nEo90lp",
    "outputId": "73e7f573-acf5-45ce-e343-6fc516d77634"
   },
   "outputs": [
    {
     "data": {
      "text/plain": [
       "Text(0, 0.5, 'Train Loss')"
      ]
     },
     "execution_count": 12,
     "metadata": {
      "tags": []
     },
     "output_type": "execute_result"
    },
    {
     "data": {
      "image/png": "[encoded data removed]",
      "text/plain": [
       "<Figure size 432x288 with 1 Axes>"
      ]
     },
     "metadata": {
      "needs_background": "light",
      "tags": []
     },
     "output_type": "display_data"
    }
   ],
   "source": [
    "# Plot train loss\n",
    "pylab.figure()\n",
    "pylab.plot(np.arange(no_epochs), train_lo)\n",
    "pylab.xlabel('epochs')\n",
    "pylab.ylabel('Train Loss')"
   ]
  },
  {
   "cell_type": "code",
   "execution_count": 13,
   "metadata": {
    "colab": {
     "base_uri": "https://localhost:8080/",
     "height": 297
    },
    "executionInfo": {
     "elapsed": 824586,
     "status": "ok",
     "timestamp": 1605018624574,
     "user": {
      "displayName": "Mu Siyi",
      "photoUrl": "https://lh3.googleusercontent.com/a-/AOh14Gj8QgmJnhwClZ56sAt7RQhY0GcJe4BfDK1dGxf4ZQ=s64",
      "userId": "04695566065545999051"
     },
     "user_tz": -480
    },
    "id": "YYnaUtJFEEs7",
    "outputId": "6d02705f-df98-48f5-915a-98bf7d38d391"
   },
   "outputs": [
    {
     "data": {
      "text/plain": [
       "Text(0, 0.5, 'Test Accuracy')"
      ]
     },
     "execution_count": 13,
     "metadata": {
      "tags": []
     },
     "output_type": "execute_result"
    },
    {
     "data": {
      "image/png": "[encoded data removed]",
      "text/plain": [
       "<Figure size 432x288 with 1 Axes>"
      ]
     },
     "metadata": {
      "needs_background": "light",
      "tags": []
     },
     "output_type": "display_data"
    }
   ],
   "source": [
    "# Plot test accuracy\n",
    "pylab.figure()\n",
    "pylab.plot(np.arange(no_epochs), test_acc)\n",
    "pylab.xlabel('epochs')\n",
    "pylab.ylabel('Test Accuracy')"
   ]
  }
 ],
 "metadata": {
  "accelerator": "GPU",
  "colab": {
   "authorship_tag": "ABX9TyPSisiDt/b4/UinlTO00I8y",
   "collapsed_sections": [],
   "name": "Mu_Siyi_TaskB_RNN_char.ipynb",
   "provenance": [
    {
     "file_id": "1Uak3k0W1IUwTwMgnIu73KVsM12mxGvr5",
     "timestamp": 1605000540277
    }
   ]
  },
  "kernelspec": {
   "display_name": "Python 3",
   "language": "python",
   "name": "python3"
  },
  "language_info": {
   "codemirror_mode": {
    "name": "ipython",
    "version": 3
   },
   "file_extension": ".py",
   "mimetype": "text/x-python",
   "name": "python",
   "nbconvert_exporter": "python",
   "pygments_lexer": "ipython3",
   "version": "3.8.5"
  }
 },
 "nbformat": 4,
 "nbformat_minor": 1
}
