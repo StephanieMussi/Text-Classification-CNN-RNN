{
 "cells": [
  {
   "cell_type": "markdown",
   "metadata": {},
   "source": [
    "# Word CNN Classifier"
   ]
  },
  {
   "cell_type": "code",
   "execution_count": 1,
   "metadata": {
    "executionInfo": {
     "elapsed": 3064,
     "status": "ok",
     "timestamp": 1605007299517,
     "user": {
      "displayName": "Mu Siyi",
      "photoUrl": "https://lh3.googleusercontent.com/a-/AOh14Gj8QgmJnhwClZ56sAt7RQhY0GcJe4BfDK1dGxf4ZQ=s64",
      "userId": "04695566065545999051"
     },
     "user_tz": -480
    },
    "id": "5G0gXoJTGYer"
   },
   "outputs": [],
   "source": [
    "import numpy as np\n",
    "import collections\n",
    "import tensorflow as tf\n",
    "from nltk.tokenize import word_tokenize\n",
    "from tensorflow.keras import Model, layers\n",
    "import csv\n",
    "import re\n",
    "import pylab"
   ]
  },
  {
   "cell_type": "code",
   "execution_count": 2,
   "metadata": {
    "executionInfo": {
     "elapsed": 3062,
     "status": "ok",
     "timestamp": 1605007299518,
     "user": {
      "displayName": "Mu Siyi",
      "photoUrl": "https://lh3.googleusercontent.com/a-/AOh14Gj8QgmJnhwClZ56sAt7RQhY0GcJe4BfDK1dGxf4ZQ=s64",
      "userId": "04695566065545999051"
     },
     "user_tz": -480
    },
    "id": "gghsYKLOGwE3"
   },
   "outputs": [],
   "source": [
    "MAX_DOCUMENT_LENGTH = 100\n",
    "N_FILTERS = 10\n",
    "EMBEDDING_SIZE = 20\n",
    "FILTER_SHAPE1 = [20, 20]\n",
    "FILTER_SHAPE2 = [20, 1]\n",
    "POOLING_WINDOW = 4\n",
    "POOLING_STRIDE = 2\n",
    "MAX_LABEL = 15\n",
    "\n",
    "batch_size = 128\n",
    "no_epochs = 100\n",
    "lr = 0.01\n",
    "\n",
    "seed = 10\n",
    "tf.random.set_seed(seed)"
   ]
  },
  {
   "cell_type": "markdown",
   "metadata": {},
   "source": [
    "## Read data"
   ]
  },
  {
   "cell_type": "code",
   "execution_count": 3,
   "metadata": {
    "executionInfo": {
     "elapsed": 3059,
     "status": "ok",
     "timestamp": 1605007299519,
     "user": {
      "displayName": "Mu Siyi",
      "photoUrl": "https://lh3.googleusercontent.com/a-/AOh14Gj8QgmJnhwClZ56sAt7RQhY0GcJe4BfDK1dGxf4ZQ=s64",
      "userId": "04695566065545999051"
     },
     "user_tz": -480
    },
    "id": "YIEeHr-pGymm"
   },
   "outputs": [],
   "source": [
    "def clean_str(text):\n",
    "    text = re.sub(r\"[^A-Za-z0-9(),!?\\'\\`\\\"]\", \" \", text)\n",
    "    text = re.sub(r\"\\s{2,}\", \" \", text)\n",
    "    text = text.strip().lower()\n",
    "\n",
    "    return text"
   ]
  },
  {
   "cell_type": "code",
   "execution_count": 4,
   "metadata": {
    "executionInfo": {
     "elapsed": 3056,
     "status": "ok",
     "timestamp": 1605007299519,
     "user": {
      "displayName": "Mu Siyi",
      "photoUrl": "https://lh3.googleusercontent.com/a-/AOh14Gj8QgmJnhwClZ56sAt7RQhY0GcJe4BfDK1dGxf4ZQ=s64",
      "userId": "04695566065545999051"
     },
     "user_tz": -480
    },
    "id": "3GmtOQilG0fu"
   },
   "outputs": [],
   "source": [
    "def build_word_dict(contents):\n",
    "    words = list()\n",
    "    for content in contents:\n",
    "        for word in word_tokenize(clean_str(content)):\n",
    "            words.append(word)\n",
    "\n",
    "    word_counter = collections.Counter(words).most_common()\n",
    "    word_dict = dict()\n",
    "    word_dict[\"<pad>\"] = 0\n",
    "    word_dict[\"<unk>\"] = 1\n",
    "    word_dict[\"<eos>\"] = 2\n",
    "    for word, _ in word_counter:\n",
    "        word_dict[word] = len(word_dict)\n",
    "    return word_dict"
   ]
  },
  {
   "cell_type": "code",
   "execution_count": 5,
   "metadata": {
    "executionInfo": {
     "elapsed": 3055,
     "status": "ok",
     "timestamp": 1605007299520,
     "user": {
      "displayName": "Mu Siyi",
      "photoUrl": "https://lh3.googleusercontent.com/a-/AOh14Gj8QgmJnhwClZ56sAt7RQhY0GcJe4BfDK1dGxf4ZQ=s64",
      "userId": "04695566065545999051"
     },
     "user_tz": -480
    },
    "id": "arHrvx1IG2vv"
   },
   "outputs": [],
   "source": [
    "def preprocess(contents, word_dict, document_max_len):\n",
    "    x = list(map(lambda d: word_tokenize(clean_str(d)), contents))\n",
    "    x = list(map(lambda d: list(map(lambda w: word_dict.get(w, word_dict[\"<unk>\"]), d)), x))\n",
    "    x = list(map(lambda d: d + [word_dict[\"<eos>\"]], x))\n",
    "    x = list(map(lambda d: d[:document_max_len], x))\n",
    "    x = list(map(lambda d: d + (document_max_len - len(d)) * [word_dict[\"<pad>\"]], x))\n",
    "    return x"
   ]
  },
  {
   "cell_type": "code",
   "execution_count": 6,
   "metadata": {
    "executionInfo": {
     "elapsed": 3053,
     "status": "ok",
     "timestamp": 1605007299520,
     "user": {
      "displayName": "Mu Siyi",
      "photoUrl": "https://lh3.googleusercontent.com/a-/AOh14Gj8QgmJnhwClZ56sAt7RQhY0GcJe4BfDK1dGxf4ZQ=s64",
      "userId": "04695566065545999051"
     },
     "user_tz": -480
    },
    "id": "9dQNgTttG4Uv"
   },
   "outputs": [],
   "source": [
    "def read_data_words():\n",
    "    x_train, y_train, x_test, y_test = [], [], [], []\n",
    "    cop = re.compile(\"[^a-z^A-Z^0-9^,^.^' ']\")\n",
    "    with open('/content/drive/My Drive/tensorflow/train_medium.csv', encoding='utf-8') as filex:\n",
    "        reader = csv.reader(filex)\n",
    "        for row in reader:\n",
    "            data = cop.sub(\"\", row[1])\n",
    "            x_train.append(data)\n",
    "            y_train.append(int(row[0]))\n",
    "\n",
    "    with open('/content/drive/My Drive/tensorflow/test_medium.csv', encoding='utf-8') as filex:\n",
    "        reader = csv.reader(filex)\n",
    "        for row in reader:\n",
    "            data = cop.sub(\"\", row[1])\n",
    "            x_test.append(data)\n",
    "            y_test.append(int(row[0]))\n",
    "\n",
    "    word_dict = build_word_dict(x_train+x_test)\n",
    "    x_train = preprocess(x_train, word_dict, MAX_DOCUMENT_LENGTH)\n",
    "    y_train = np.array(y_train)\n",
    "    x_test = preprocess(x_test, word_dict, MAX_DOCUMENT_LENGTH)\n",
    "    y_test = np.array(y_test)\n",
    "\n",
    "    x_train = [x[:MAX_DOCUMENT_LENGTH] for x in x_train]\n",
    "    x_test = [x[:MAX_DOCUMENT_LENGTH] for x in x_test]\n",
    "    x_train = tf.constant(x_train, dtype=tf.int64)\n",
    "    y_train = tf.constant(y_train, dtype=tf.int64)\n",
    "    x_test = tf.constant(x_test, dtype=tf.int64)\n",
    "    y_test = tf.constant(y_test, dtype=tf.int64)\n",
    "\n",
    "    vocab_size = tf.get_static_value(tf.reduce_max(x_train))\n",
    "    vocab_size = max(vocab_size, tf.get_static_value(tf.reduce_max(x_test))) + 1\n",
    "    return x_train, y_train, x_test, y_test, vocab_size"
   ]
  },
  {
   "cell_type": "code",
   "execution_count": 7,
   "metadata": {
    "executionInfo": {
     "elapsed": 7741,
     "status": "ok",
     "timestamp": 1605007304211,
     "user": {
      "displayName": "Mu Siyi",
      "photoUrl": "https://lh3.googleusercontent.com/a-/AOh14Gj8QgmJnhwClZ56sAt7RQhY0GcJe4BfDK1dGxf4ZQ=s64",
      "userId": "04695566065545999051"
     },
     "user_tz": -480
    },
    "id": "qx85cpoQHDxP"
   },
   "outputs": [],
   "source": [
    "x_train, y_train, x_test, y_test, vocab_size = read_data_words()\n",
    "# Use `tf.data` to batch and shuffle the dataset:\n",
    "train_ds = tf.data.Dataset.from_tensor_slices(\n",
    "    (x_train, y_train)).shuffle(10000).batch(batch_size)\n",
    "test_ds = tf.data.Dataset.from_tensor_slices((x_test, y_test)).batch(batch_size)"
   ]
  },
  {
   "cell_type": "markdown",
   "metadata": {},
   "source": [
    "## Build model"
   ]
  },
  {
   "cell_type": "code",
   "execution_count": 8,
   "metadata": {
    "executionInfo": {
     "elapsed": 7740,
     "status": "ok",
     "timestamp": 1605007304212,
     "user": {
      "displayName": "Mu Siyi",
      "photoUrl": "https://lh3.googleusercontent.com/a-/AOh14Gj8QgmJnhwClZ56sAt7RQhY0GcJe4BfDK1dGxf4ZQ=s64",
      "userId": "04695566065545999051"
     },
     "user_tz": -480
    },
    "id": "Mpyjx94gIh5G"
   },
   "outputs": [],
   "source": [
    "# Build model\n",
    "tf.keras.backend.set_floatx('float32')\n",
    "class WordCNN(Model):\n",
    "    def __init__(self, vocab_size):\n",
    "        super(WordCNN, self).__init__()\n",
    "        self.vocab_size = vocab_size\n",
    "        # Embedding layer\n",
    "        self.embedding = layers.Embedding(vocab_size, EMBEDDING_SIZE, input_length=MAX_DOCUMENT_LENGTH)\n",
    "        # Weight variables and RNN cell\n",
    "        # Convolution layer C1, 10 filters of 20x20, VALID, ReLU\n",
    "        self.conv1 = layers.Conv2D(N_FILTERS, FILTER_SHAPE1, padding='VALID', activation='relu', use_bias=True, )\n",
    "        # Pooling layer S1, 4x4 window size, stride=2\n",
    "        self.pool1 = layers.MaxPool2D(POOLING_WINDOW, POOLING_STRIDE, padding='SAME')\n",
    "        # Convolution layer C2, 10 filters of 20x1, VALID, ReLU\n",
    "        self.conv2 = layers.Conv2D(N_FILTERS, FILTER_SHAPE2, padding='VALID', activation='relu', use_bias=True)\n",
    "        # Pooling layer S2, 4x4 window size, stride=2\n",
    "        self.pool2 = layers.MaxPool2D(POOLING_WINDOW, POOLING_STRIDE, padding='SAME')\n",
    "        self.flatten = layers.Flatten()\n",
    "        self.dense = layers.Dense(MAX_LABEL, activation='softmax')\n",
    "\n",
    "    def call(self, x, drop_rate=0.5):\n",
    "        # forward\n",
    "        x = self.embedding(x)\n",
    "        x = x[..., tf.newaxis]\n",
    "        x = self.conv1(x)\n",
    "        x = self.pool1(x)\n",
    "        x = self.conv2(x)\n",
    "        x = self.pool2(x)\n",
    "        x = self.flatten(x)\n",
    "        x = tf.nn.dropout(x, drop_rate)\n",
    "        logits = self.dense(x)\n",
    "        return logits"
   ]
  },
  {
   "cell_type": "code",
   "execution_count": 9,
   "metadata": {
    "executionInfo": {
     "elapsed": 7738,
     "status": "ok",
     "timestamp": 1605007304213,
     "user": {
      "displayName": "Mu Siyi",
      "photoUrl": "https://lh3.googleusercontent.com/a-/AOh14Gj8QgmJnhwClZ56sAt7RQhY0GcJe4BfDK1dGxf4ZQ=s64",
      "userId": "04695566065545999051"
     },
     "user_tz": -480
    },
    "id": "AxdNCmITHI34"
   },
   "outputs": [],
   "source": [
    "model = WordCNN(vocab_size)\n",
    "\n",
    "# Choose optimizer and loss function for training\n",
    "optimizer = tf.keras.optimizers.Adam(learning_rate=lr) #SGD #Adam\n",
    "loss_object = tf.keras.losses.SparseCategoricalCrossentropy(from_logits=True)\n",
    "\n",
    "# Select metrics to measure the loss and the accuracy of the model. \n",
    "# These metrics accumulate the values over epochs and then print the overall result.\n",
    "train_loss = tf.keras.metrics.Mean(name='train_loss')\n",
    "train_accuracy = tf.keras.metrics.SparseCategoricalAccuracy(name='train_accuracy')\n",
    "\n",
    "test_loss = tf.keras.metrics.Mean(name='test_loss')\n",
    "test_accuracy = tf.keras.metrics.SparseCategoricalAccuracy(name='test_accuracy')"
   ]
  },
  {
   "cell_type": "markdown",
   "metadata": {},
   "source": [
    "## Functions for training and testing"
   ]
  },
  {
   "cell_type": "code",
   "execution_count": 10,
   "metadata": {
    "executionInfo": {
     "elapsed": 7736,
     "status": "ok",
     "timestamp": 1605007304213,
     "user": {
      "displayName": "Mu Siyi",
      "photoUrl": "https://lh3.googleusercontent.com/a-/AOh14Gj8QgmJnhwClZ56sAt7RQhY0GcJe4BfDK1dGxf4ZQ=s64",
      "userId": "04695566065545999051"
     },
     "user_tz": -480
    },
    "id": "xqp0KkrtHWPH"
   },
   "outputs": [],
   "source": [
    "# Training function\n",
    "def train_step(model, x, label, drop_rate):\n",
    "    with tf.GradientTape() as tape:\n",
    "        out = model(x, drop_rate)\n",
    "        loss = loss_object(label, out)\n",
    "        gradients = tape.gradient(loss, model.trainable_variables)\n",
    "        optimizer.apply_gradients(zip(gradients, model.trainable_variables))\n",
    "        \n",
    "    train_loss(loss)\n",
    "    train_accuracy(labels, out)"
   ]
  },
  {
   "cell_type": "code",
   "execution_count": 11,
   "metadata": {
    "executionInfo": {
     "elapsed": 7733,
     "status": "ok",
     "timestamp": 1605007304213,
     "user": {
      "displayName": "Mu Siyi",
      "photoUrl": "https://lh3.googleusercontent.com/a-/AOh14Gj8QgmJnhwClZ56sAt7RQhY0GcJe4BfDK1dGxf4ZQ=s64",
      "userId": "04695566065545999051"
     },
     "user_tz": -480
    },
    "id": "glNAWoGYHWmE"
   },
   "outputs": [],
   "source": [
    "# Testing function\n",
    "def test_step(model, x, label, drop_rate=0):\n",
    "    out = model(x,drop_rate)\n",
    "    t_loss = loss_object(label, out)\n",
    "    test_loss(t_loss)\n",
    "    test_accuracy(label, out)\n"
   ]
  },
  {
   "cell_type": "markdown",
   "metadata": {},
   "source": [
    "## Train model"
   ]
  },
  {
   "cell_type": "code",
   "execution_count": 12,
   "metadata": {
    "colab": {
     "base_uri": "https://localhost:8080/"
    },
    "executionInfo": {
     "elapsed": 145134,
     "status": "ok",
     "timestamp": 1605007441616,
     "user": {
      "displayName": "Mu Siyi",
      "photoUrl": "https://lh3.googleusercontent.com/a-/AOh14Gj8QgmJnhwClZ56sAt7RQhY0GcJe4BfDK1dGxf4ZQ=s64",
      "userId": "04695566065545999051"
     },
     "user_tz": -480
    },
    "id": "c7GNmaOIHYCR",
    "outputId": "ff5b54f6-cb24-412c-bdf9-44682ed4f116"
   },
   "outputs": [
    {
     "name": "stdout",
     "output_type": "stream",
     "text": [
      "Epoch 1, Loss: 2.6647775173187256, Accuracy: 0.1217857152223587, Test Loss: 2.621427536010742, Test Accuracy: 0.18571428954601288\n",
      "Epoch 2, Loss: 2.5972001552581787, Accuracy: 0.19821429252624512, Test Loss: 2.5498697757720947, Test Accuracy: 0.2571428716182709\n",
      "Epoch 3, Loss: 2.5314760208129883, Accuracy: 0.270892858505249, Test Loss: 2.50185489654541, Test Accuracy: 0.322857141494751\n",
      "Epoch 4, Loss: 2.465208053588867, Accuracy: 0.34017857909202576, Test Loss: 2.465955972671509, Test Accuracy: 0.3499999940395355\n",
      "Epoch 5, Loss: 2.4293923377990723, Accuracy: 0.38303571939468384, Test Loss: 2.433690309524536, Test Accuracy: 0.37714284658432007\n",
      "Epoch 6, Loss: 2.3832128047943115, Accuracy: 0.42500001192092896, Test Loss: 2.3927760124206543, Test Accuracy: 0.4214285612106323\n",
      "Epoch 7, Loss: 2.366227626800537, Accuracy: 0.44803571701049805, Test Loss: 2.406609296798706, Test Accuracy: 0.41428571939468384\n",
      "Epoch 8, Loss: 2.3449759483337402, Accuracy: 0.4673214256763458, Test Loss: 2.3815953731536865, Test Accuracy: 0.4357142746448517\n",
      "Epoch 9, Loss: 2.3262288570404053, Accuracy: 0.48571428656578064, Test Loss: 2.3477089405059814, Test Accuracy: 0.4714285731315613\n",
      "Epoch 10, Loss: 2.2953341007232666, Accuracy: 0.518750011920929, Test Loss: 2.3560619354248047, Test Accuracy: 0.46857142448425293\n",
      "Epoch 11, Loss: 2.293527841567993, Accuracy: 0.520892858505249, Test Loss: 2.360196113586426, Test Accuracy: 0.45571428537368774\n",
      "Epoch 12, Loss: 2.281691074371338, Accuracy: 0.5326785445213318, Test Loss: 2.3388068675994873, Test Accuracy: 0.4814285635948181\n",
      "Epoch 13, Loss: 2.275258779525757, Accuracy: 0.5412499904632568, Test Loss: 2.3527557849884033, Test Accuracy: 0.47428572177886963\n",
      "Epoch 14, Loss: 2.2807364463806152, Accuracy: 0.5330356955528259, Test Loss: 2.345102071762085, Test Accuracy: 0.477142870426178\n",
      "Epoch 15, Loss: 2.2648937702178955, Accuracy: 0.550000011920929, Test Loss: 2.337064027786255, Test Accuracy: 0.488571435213089\n",
      "Epoch 16, Loss: 2.2450761795043945, Accuracy: 0.5701785683631897, Test Loss: 2.3149774074554443, Test Accuracy: 0.5028571486473083\n",
      "Epoch 17, Loss: 2.244957685470581, Accuracy: 0.572857141494751, Test Loss: 2.3059375286102295, Test Accuracy: 0.5157142877578735\n",
      "Epoch 18, Loss: 2.2478559017181396, Accuracy: 0.5692856907844543, Test Loss: 2.3144006729125977, Test Accuracy: 0.5042856931686401\n",
      "Epoch 19, Loss: 2.2637176513671875, Accuracy: 0.5508928298950195, Test Loss: 2.317866325378418, Test Accuracy: 0.5071428418159485\n",
      "Epoch 20, Loss: 2.2585043907165527, Accuracy: 0.5567857027053833, Test Loss: 2.311060667037964, Test Accuracy: 0.5128571391105652\n",
      "Epoch 21, Loss: 2.240551710128784, Accuracy: 0.5746428370475769, Test Loss: 2.3022539615631104, Test Accuracy: 0.5257142782211304\n",
      "Epoch 22, Loss: 2.2463467121124268, Accuracy: 0.5698214173316956, Test Loss: 2.280198335647583, Test Accuracy: 0.5442857146263123\n",
      "Epoch 23, Loss: 2.2383463382720947, Accuracy: 0.5771428346633911, Test Loss: 2.302597999572754, Test Accuracy: 0.5199999809265137\n",
      "Epoch 24, Loss: 2.2444818019866943, Accuracy: 0.5714285969734192, Test Loss: 2.3043148517608643, Test Accuracy: 0.5185714364051819\n",
      "Epoch 25, Loss: 2.2404956817626953, Accuracy: 0.5742856860160828, Test Loss: 2.2958719730377197, Test Accuracy: 0.5242857336997986\n",
      "Epoch 26, Loss: 2.222557306289673, Accuracy: 0.5930356979370117, Test Loss: 2.292341947555542, Test Accuracy: 0.5314285755157471\n",
      "Epoch 27, Loss: 2.246338367462158, Accuracy: 0.5699999928474426, Test Loss: 2.306089162826538, Test Accuracy: 0.5128571391105652\n",
      "Epoch 28, Loss: 2.238851308822632, Accuracy: 0.5766071677207947, Test Loss: 2.3068687915802, Test Accuracy: 0.5199999809265137\n",
      "Epoch 29, Loss: 2.233914613723755, Accuracy: 0.581428587436676, Test Loss: 2.3048174381256104, Test Accuracy: 0.522857129573822\n",
      "Epoch 30, Loss: 2.222456455230713, Accuracy: 0.5941071510314941, Test Loss: 2.3091204166412354, Test Accuracy: 0.5142857432365417\n",
      "Epoch 31, Loss: 2.234133720397949, Accuracy: 0.5839285850524902, Test Loss: 2.309098958969116, Test Accuracy: 0.5157142877578735\n",
      "Epoch 32, Loss: 2.2398252487182617, Accuracy: 0.5773214101791382, Test Loss: 2.339617967605591, Test Accuracy: 0.4871428608894348\n",
      "Epoch 33, Loss: 2.2489235401153564, Accuracy: 0.5671428442001343, Test Loss: 2.326881170272827, Test Accuracy: 0.4942857027053833\n",
      "Epoch 34, Loss: 2.2536163330078125, Accuracy: 0.5623214244842529, Test Loss: 2.3076558113098145, Test Accuracy: 0.5128571391105652\n",
      "Epoch 35, Loss: 2.2708373069763184, Accuracy: 0.5444642901420593, Test Loss: 2.311030626296997, Test Accuracy: 0.5114285945892334\n",
      "Epoch 36, Loss: 2.2405683994293213, Accuracy: 0.5758928656578064, Test Loss: 2.338470220565796, Test Accuracy: 0.4871428608894348\n",
      "Epoch 37, Loss: 2.2335450649261475, Accuracy: 0.5826785564422607, Test Loss: 2.2880446910858154, Test Accuracy: 0.5371428728103638\n",
      "Epoch 38, Loss: 2.2273521423339844, Accuracy: 0.5891071557998657, Test Loss: 2.3170230388641357, Test Accuracy: 0.5042856931686401\n",
      "Epoch 39, Loss: 2.2396867275238037, Accuracy: 0.5766071677207947, Test Loss: 2.3054628372192383, Test Accuracy: 0.5171428322792053\n",
      "Epoch 40, Loss: 2.227163076400757, Accuracy: 0.5891071557998657, Test Loss: 2.3096418380737305, Test Accuracy: 0.5157142877578735\n",
      "Epoch 41, Loss: 2.2380425930023193, Accuracy: 0.5783928632736206, Test Loss: 2.37542462348938, Test Accuracy: 0.4471428692340851\n",
      "Epoch 42, Loss: 2.270805835723877, Accuracy: 0.5460714101791382, Test Loss: 2.328263998031616, Test Accuracy: 0.49000000953674316\n",
      "Epoch 43, Loss: 2.248016834259033, Accuracy: 0.5676785707473755, Test Loss: 2.3247740268707275, Test Accuracy: 0.4985714256763458\n",
      "Epoch 44, Loss: 2.2203691005706787, Accuracy: 0.595714271068573, Test Loss: 2.2962121963500977, Test Accuracy: 0.5299999713897705\n",
      "Epoch 45, Loss: 2.219696283340454, Accuracy: 0.5964285731315613, Test Loss: 2.2859508991241455, Test Accuracy: 0.5342857241630554\n",
      "Epoch 46, Loss: 2.2038960456848145, Accuracy: 0.6130357384681702, Test Loss: 2.294708251953125, Test Accuracy: 0.5257142782211304\n",
      "Epoch 47, Loss: 2.2298619747161865, Accuracy: 0.5857142806053162, Test Loss: 2.3254101276397705, Test Accuracy: 0.4957142770290375\n",
      "Epoch 48, Loss: 2.235844135284424, Accuracy: 0.5807142853736877, Test Loss: 2.34769606590271, Test Accuracy: 0.4714285731315613\n",
      "Epoch 49, Loss: 2.2527902126312256, Accuracy: 0.5639285445213318, Test Loss: 2.3040406703948975, Test Accuracy: 0.5185714364051819\n",
      "Epoch 50, Loss: 2.237178325653076, Accuracy: 0.579285740852356, Test Loss: 2.3029415607452393, Test Accuracy: 0.5242857336997986\n",
      "Epoch 51, Loss: 2.2323973178863525, Accuracy: 0.5846428275108337, Test Loss: 2.321476697921753, Test Accuracy: 0.5028571486473083\n",
      "Epoch 52, Loss: 2.231351852416992, Accuracy: 0.5848214030265808, Test Loss: 2.294865608215332, Test Accuracy: 0.5299999713897705\n",
      "Epoch 53, Loss: 2.245448112487793, Accuracy: 0.5712500214576721, Test Loss: 2.4074065685272217, Test Accuracy: 0.41428571939468384\n",
      "Epoch 54, Loss: 2.2901220321655273, Accuracy: 0.5258928537368774, Test Loss: 2.377849578857422, Test Accuracy: 0.44428572058677673\n",
      "Epoch 55, Loss: 2.268048048019409, Accuracy: 0.5482142567634583, Test Loss: 2.37138032913208, Test Accuracy: 0.4514285624027252\n",
      "Epoch 56, Loss: 2.2525362968444824, Accuracy: 0.5639285445213318, Test Loss: 2.3221986293792725, Test Accuracy: 0.5028571486473083\n",
      "Epoch 57, Loss: 2.2277514934539795, Accuracy: 0.5889285802841187, Test Loss: 2.306504487991333, Test Accuracy: 0.5199999809265137\n",
      "Epoch 58, Loss: 2.2197682857513428, Accuracy: 0.5962499976158142, Test Loss: 2.3095266819000244, Test Accuracy: 0.5171428322792053\n",
      "Epoch 59, Loss: 2.2253129482269287, Accuracy: 0.5919643044471741, Test Loss: 2.3249175548553467, Test Accuracy: 0.5028571486473083\n",
      "Epoch 60, Loss: 2.2196624279022217, Accuracy: 0.5973214507102966, Test Loss: 2.300471544265747, Test Accuracy: 0.5257142782211304\n",
      "Epoch 61, Loss: 2.2065794467926025, Accuracy: 0.6098214387893677, Test Loss: 2.341494560241699, Test Accuracy: 0.48428571224212646\n",
      "Epoch 62, Loss: 2.2216241359710693, Accuracy: 0.5950000286102295, Test Loss: 2.3479044437408447, Test Accuracy: 0.47857141494750977\n",
      "Epoch 63, Loss: 2.211422920227051, Accuracy: 0.6051785945892334, Test Loss: 2.3220818042755127, Test Accuracy: 0.5099999904632568\n",
      "Epoch 64, Loss: 2.2002365589141846, Accuracy: 0.6155357360839844, Test Loss: 2.3356783390045166, Test Accuracy: 0.4942857027053833\n",
      "Epoch 65, Loss: 2.2039709091186523, Accuracy: 0.6119642853736877, Test Loss: 2.3175294399261475, Test Accuracy: 0.5114285945892334\n",
      "Epoch 66, Loss: 2.204841375350952, Accuracy: 0.6116071343421936, Test Loss: 2.3256852626800537, Test Accuracy: 0.5028571486473083\n",
      "Epoch 67, Loss: 2.200901508331299, Accuracy: 0.6155357360839844, Test Loss: 2.3524341583251953, Test Accuracy: 0.477142870426178\n",
      "Epoch 68, Loss: 2.2099714279174805, Accuracy: 0.6058928370475769, Test Loss: 2.3103246688842773, Test Accuracy: 0.5171428322792053\n",
      "Epoch 69, Loss: 2.202880382537842, Accuracy: 0.6133928298950195, Test Loss: 2.3143043518066406, Test Accuracy: 0.5128571391105652\n",
      "Epoch 70, Loss: 2.2010812759399414, Accuracy: 0.6150000095367432, Test Loss: 2.305636167526245, Test Accuracy: 0.5214285850524902\n",
      "Epoch 71, Loss: 2.210580587387085, Accuracy: 0.6057142615318298, Test Loss: 2.296793222427368, Test Accuracy: 0.5271428823471069\n",
      "Epoch 72, Loss: 2.2079389095306396, Accuracy: 0.6091071367263794, Test Loss: 2.3047597408294678, Test Accuracy: 0.522857129573822\n",
      "Epoch 73, Loss: 2.196211576461792, Accuracy: 0.6192857027053833, Test Loss: 2.3134605884552, Test Accuracy: 0.5157142877578735\n",
      "Epoch 74, Loss: 2.2140731811523438, Accuracy: 0.6016071438789368, Test Loss: 2.290569305419922, Test Accuracy: 0.5385714173316956\n",
      "Epoch 75, Loss: 2.239781141281128, Accuracy: 0.5766071677207947, Test Loss: 2.3244969844818115, Test Accuracy: 0.5028571486473083\n",
      "Epoch 76, Loss: 2.2506794929504395, Accuracy: 0.5657142996788025, Test Loss: 2.330848217010498, Test Accuracy: 0.4942857027053833\n",
      "Epoch 77, Loss: 2.246854782104492, Accuracy: 0.5696428418159485, Test Loss: 2.3354296684265137, Test Accuracy: 0.488571435213089\n",
      "Epoch 78, Loss: 2.2294580936431885, Accuracy: 0.5871428847312927, Test Loss: 2.328599691390991, Test Accuracy: 0.5\n",
      "Epoch 79, Loss: 2.2485575675964355, Accuracy: 0.5676785707473755, Test Loss: 2.3366892337799072, Test Accuracy: 0.49000000953674316\n",
      "Epoch 80, Loss: 2.2306649684906006, Accuracy: 0.5849999785423279, Test Loss: 2.3591315746307373, Test Accuracy: 0.4642857015132904\n",
      "Epoch 81, Loss: 2.2256853580474854, Accuracy: 0.5901785492897034, Test Loss: 2.3206655979156494, Test Accuracy: 0.5057142972946167\n",
      "Epoch 82, Loss: 2.2269201278686523, Accuracy: 0.5894643068313599, Test Loss: 2.3412082195281982, Test Accuracy: 0.48428571224212646\n",
      "Epoch 83, Loss: 2.2189834117889404, Accuracy: 0.5978571176528931, Test Loss: 2.308922052383423, Test Accuracy: 0.5157142877578735\n",
      "Epoch 84, Loss: 2.2283542156219482, Accuracy: 0.5887500047683716, Test Loss: 2.328218698501587, Test Accuracy: 0.4957142770290375\n",
      "Epoch 85, Loss: 2.2335925102233887, Accuracy: 0.5830357074737549, Test Loss: 2.3354580402374268, Test Accuracy: 0.488571435213089\n",
      "Epoch 86, Loss: 2.2430920600891113, Accuracy: 0.572857141494751, Test Loss: 2.325059652328491, Test Accuracy: 0.5\n",
      "Epoch 87, Loss: 2.2683846950531006, Accuracy: 0.5482142567634583, Test Loss: 2.388803720474243, Test Accuracy: 0.4414285719394684\n",
      "Epoch 88, Loss: 2.269489049911499, Accuracy: 0.5467857122421265, Test Loss: 2.3495728969573975, Test Accuracy: 0.477142870426178\n",
      "Epoch 89, Loss: 2.241145610809326, Accuracy: 0.5746428370475769, Test Loss: 2.321117401123047, Test Accuracy: 0.5071428418159485\n",
      "Epoch 90, Loss: 2.2781436443328857, Accuracy: 0.5369642972946167, Test Loss: 2.3946187496185303, Test Accuracy: 0.4285714328289032\n",
      "Epoch 91, Loss: 2.2746663093566895, Accuracy: 0.5412499904632568, Test Loss: 2.350721597671509, Test Accuracy: 0.4699999988079071\n",
      "Epoch 92, Loss: 2.2309834957122803, Accuracy: 0.5855357050895691, Test Loss: 2.309145212173462, Test Accuracy: 0.5142857432365417\n",
      "Epoch 93, Loss: 2.222661018371582, Accuracy: 0.5935714244842529, Test Loss: 2.3196630477905273, Test Accuracy: 0.5071428418159485\n",
      "Epoch 94, Loss: 2.2205772399902344, Accuracy: 0.5960714221000671, Test Loss: 2.324859142303467, Test Accuracy: 0.5042856931686401\n",
      "Epoch 95, Loss: 2.210861921310425, Accuracy: 0.6051785945892334, Test Loss: 2.344886302947998, Test Accuracy: 0.4828571379184723\n",
      "Epoch 96, Loss: 2.20857572555542, Accuracy: 0.6076785922050476, Test Loss: 2.339008092880249, Test Accuracy: 0.49142858386039734\n",
      "Epoch 97, Loss: 2.2090420722961426, Accuracy: 0.6071428656578064, Test Loss: 2.340799570083618, Test Accuracy: 0.488571435213089\n",
      "Epoch 98, Loss: 2.2212281227111816, Accuracy: 0.5946428775787354, Test Loss: 2.339378595352173, Test Accuracy: 0.49142858386039734\n",
      "Epoch 99, Loss: 2.2114858627319336, Accuracy: 0.6050000190734863, Test Loss: 2.330824375152588, Test Accuracy: 0.4985714256763458\n",
      "Epoch 100, Loss: 2.2060861587524414, Accuracy: 0.6101785898208618, Test Loss: 2.318772554397583, Test Accuracy: 0.508571445941925\n"
     ]
    }
   ],
   "source": [
    "test_acc = []\n",
    "train_lo = []\n",
    "for epoch in range(no_epochs):\n",
    "    # Reset the metrics at the start of the next epoch\n",
    "    train_loss.reset_states()\n",
    "    train_accuracy.reset_states()\n",
    "    test_loss.reset_states()\n",
    "    test_accuracy.reset_states()\n",
    "\n",
    "    for images, labels in train_ds:\n",
    "        train_step(model, images, labels, drop_rate=0.5)\n",
    "\n",
    "    for images, labels in test_ds:\n",
    "        test_step(model, images, labels, drop_rate=0)\n",
    "\n",
    "    test_acc.append(test_accuracy.result())\n",
    "    train_lo.append(train_loss.result())\n",
    "    template = 'Epoch {}, Loss: {}, Accuracy: {}, Test Loss: {}, Test Accuracy: {}'\n",
    "    print (template.format(epoch+1,\n",
    "                          train_loss.result(),\n",
    "                          train_accuracy.result(),\n",
    "                          test_loss.result(),\n",
    "                          test_accuracy.result()))"
   ]
  },
  {
   "cell_type": "markdown",
   "metadata": {},
   "source": [
    "## Plot accuracy and loss curves"
   ]
  },
  {
   "cell_type": "code",
   "execution_count": 13,
   "metadata": {
    "colab": {
     "base_uri": "https://localhost:8080/",
     "height": 297
    },
    "executionInfo": {
     "elapsed": 145127,
     "status": "ok",
     "timestamp": 1605007441617,
     "user": {
      "displayName": "Mu Siyi",
      "photoUrl": "https://lh3.googleusercontent.com/a-/AOh14Gj8QgmJnhwClZ56sAt7RQhY0GcJe4BfDK1dGxf4ZQ=s64",
      "userId": "04695566065545999051"
     },
     "user_tz": -480
    },
    "id": "0eFPW7e5HifI",
    "outputId": "0682f4a0-b58f-42fe-961b-62a3ce37c9ae"
   },
   "outputs": [
    {
     "data": {
      "text/plain": [
       "Text(0, 0.5, 'Train Loss')"
      ]
     },
     "execution_count": 13,
     "metadata": {
      "tags": []
     },
     "output_type": "execute_result"
    },
    {
     "data": {
      "image/png": "[encoded data removed]",
      "text/plain": [
       "<Figure size 432x288 with 1 Axes>"
      ]
     },
     "metadata": {
      "needs_background": "light",
      "tags": []
     },
     "output_type": "display_data"
    }
   ],
   "source": [
    "# Plot train loss\n",
    "pylab.figure()\n",
    "pylab.plot(np.arange(no_epochs), train_lo)\n",
    "pylab.xlabel('epochs')\n",
    "pylab.ylabel('Train Loss')"
   ]
  },
  {
   "cell_type": "code",
   "execution_count": 14,
   "metadata": {
    "colab": {
     "base_uri": "https://localhost:8080/",
     "height": 297
    },
    "executionInfo": {
     "elapsed": 145890,
     "status": "ok",
     "timestamp": 1605007442387,
     "user": {
      "displayName": "Mu Siyi",
      "photoUrl": "https://lh3.googleusercontent.com/a-/AOh14Gj8QgmJnhwClZ56sAt7RQhY0GcJe4BfDK1dGxf4ZQ=s64",
      "userId": "04695566065545999051"
     },
     "user_tz": -480
    },
    "id": "QsZurf0THi9k",
    "outputId": "0475ca34-5a3f-4f71-e7ea-911d5a74ce28"
   },
   "outputs": [
    {
     "data": {
      "text/plain": [
       "Text(0, 0.5, 'Test Accuracy')"
      ]
     },
     "execution_count": 14,
     "metadata": {
      "tags": []
     },
     "output_type": "execute_result"
    },
    {
     "data": {
      "image/png": "[encoded data removed]",
      "text/plain": [
       "<Figure size 432x288 with 1 Axes>"
      ]
     },
     "metadata": {
      "needs_background": "light",
      "tags": []
     },
     "output_type": "display_data"
    }
   ],
   "source": [
    "# Plot test accuracy\n",
    "pylab.figure()\n",
    "pylab.plot(np.arange(no_epochs), test_acc)\n",
    "pylab.xlabel('epochs')\n",
    "pylab.ylabel('Test Accuracy')"
   ]
  }
 ],
 "metadata": {
  "accelerator": "GPU",
  "colab": {
   "authorship_tag": "ABX9TyOwEiqWljtHnJCfFgegZ0Fo",
   "collapsed_sections": [],
   "name": "Mu_Siyi_TaskB_CNN_word.ipynb",
   "provenance": []
  },
  "kernelspec": {
   "display_name": "Python 3",
   "language": "python",
   "name": "python3"
  },
  "language_info": {
   "codemirror_mode": {
    "name": "ipython",
    "version": 3
   },
   "file_extension": ".py",
   "mimetype": "text/x-python",
   "name": "python",
   "nbconvert_exporter": "python",
   "pygments_lexer": "ipython3",
   "version": "3.8.5"
  }
 },
 "nbformat": 4,
 "nbformat_minor": 1
}
