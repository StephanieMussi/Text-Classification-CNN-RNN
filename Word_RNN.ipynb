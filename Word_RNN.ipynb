{
 "cells": [
  {
   "cell_type": "code",
   "execution_count": 1,
   "metadata": {
    "executionInfo": {
     "elapsed": 2619,
     "status": "ok",
     "timestamp": 1605019995616,
     "user": {
      "displayName": "Mu Siyi",
      "photoUrl": "https://lh3.googleusercontent.com/a-/AOh14Gj8QgmJnhwClZ56sAt7RQhY0GcJe4BfDK1dGxf4ZQ=s64",
      "userId": "04695566065545999051"
     },
     "user_tz": -480
    },
    "id": "5G0gXoJTGYer"
   },
   "outputs": [],
   "source": [
    "import numpy as np\n",
    "import collections\n",
    "import tensorflow as tf\n",
    "from nltk.tokenize import word_tokenize\n",
    "from tensorflow.keras import Model, layers\n",
    "import csv\n",
    "import re\n",
    "import pylab"
   ]
  },
  {
   "cell_type": "code",
   "execution_count": 2,
   "metadata": {
    "executionInfo": {
     "elapsed": 2615,
     "status": "ok",
     "timestamp": 1605019995616,
     "user": {
      "displayName": "Mu Siyi",
      "photoUrl": "https://lh3.googleusercontent.com/a-/AOh14Gj8QgmJnhwClZ56sAt7RQhY0GcJe4BfDK1dGxf4ZQ=s64",
      "userId": "04695566065545999051"
     },
     "user_tz": -480
    },
    "id": "gghsYKLOGwE3"
   },
   "outputs": [],
   "source": [
    "MAX_DOCUMENT_LENGTH = 100\n",
    "HIDDEN_SIZE = 20\n",
    "EMBEDDING_SIZE = 20\n",
    "MAX_LABEL = 15\n",
    "\n",
    "batch_size = 128\n",
    "no_epochs = 100\n",
    "lr = 0.01\n",
    "\n",
    "seed = 10\n",
    "tf.random.set_seed(seed)"
   ]
  },
  {
   "cell_type": "code",
   "execution_count": 3,
   "metadata": {
    "executionInfo": {
     "elapsed": 2613,
     "status": "ok",
     "timestamp": 1605019995617,
     "user": {
      "displayName": "Mu Siyi",
      "photoUrl": "https://lh3.googleusercontent.com/a-/AOh14Gj8QgmJnhwClZ56sAt7RQhY0GcJe4BfDK1dGxf4ZQ=s64",
      "userId": "04695566065545999051"
     },
     "user_tz": -480
    },
    "id": "YIEeHr-pGymm"
   },
   "outputs": [],
   "source": [
    "def clean_str(text):\n",
    "    text = re.sub(r\"[^A-Za-z0-9(),!?\\'\\`\\\"]\", \" \", text)\n",
    "    text = re.sub(r\"\\s{2,}\", \" \", text)\n",
    "    text = text.strip().lower()\n",
    "\n",
    "    return text"
   ]
  },
  {
   "cell_type": "code",
   "execution_count": 4,
   "metadata": {
    "executionInfo": {
     "elapsed": 2611,
     "status": "ok",
     "timestamp": 1605019995617,
     "user": {
      "displayName": "Mu Siyi",
      "photoUrl": "https://lh3.googleusercontent.com/a-/AOh14Gj8QgmJnhwClZ56sAt7RQhY0GcJe4BfDK1dGxf4ZQ=s64",
      "userId": "04695566065545999051"
     },
     "user_tz": -480
    },
    "id": "3GmtOQilG0fu"
   },
   "outputs": [],
   "source": [
    "def build_word_dict(contents):\n",
    "    words = list()\n",
    "    for content in contents:\n",
    "        for word in word_tokenize(clean_str(content)):\n",
    "            words.append(word)\n",
    "\n",
    "    word_counter = collections.Counter(words).most_common()\n",
    "    word_dict = dict()\n",
    "    word_dict[\"<pad>\"] = 0\n",
    "    word_dict[\"<unk>\"] = 1\n",
    "    word_dict[\"<eos>\"] = 2\n",
    "    for word, _ in word_counter:\n",
    "        word_dict[word] = len(word_dict)\n",
    "    return word_dict"
   ]
  },
  {
   "cell_type": "code",
   "execution_count": 5,
   "metadata": {
    "executionInfo": {
     "elapsed": 2608,
     "status": "ok",
     "timestamp": 1605019995617,
     "user": {
      "displayName": "Mu Siyi",
      "photoUrl": "https://lh3.googleusercontent.com/a-/AOh14Gj8QgmJnhwClZ56sAt7RQhY0GcJe4BfDK1dGxf4ZQ=s64",
      "userId": "04695566065545999051"
     },
     "user_tz": -480
    },
    "id": "arHrvx1IG2vv"
   },
   "outputs": [],
   "source": [
    "def preprocess(contents, word_dict, document_max_len):\n",
    "    x = list(map(lambda d: word_tokenize(clean_str(d)), contents))\n",
    "    x = list(map(lambda d: list(map(lambda w: word_dict.get(w, word_dict[\"<unk>\"]), d)), x))\n",
    "    x = list(map(lambda d: d + [word_dict[\"<eos>\"]], x))\n",
    "    x = list(map(lambda d: d[:document_max_len], x))\n",
    "    x = list(map(lambda d: d + (document_max_len - len(d)) * [word_dict[\"<pad>\"]], x))\n",
    "    return x"
   ]
  },
  {
   "cell_type": "code",
   "execution_count": 6,
   "metadata": {
    "executionInfo": {
     "elapsed": 2607,
     "status": "ok",
     "timestamp": 1605019995618,
     "user": {
      "displayName": "Mu Siyi",
      "photoUrl": "https://lh3.googleusercontent.com/a-/AOh14Gj8QgmJnhwClZ56sAt7RQhY0GcJe4BfDK1dGxf4ZQ=s64",
      "userId": "04695566065545999051"
     },
     "user_tz": -480
    },
    "id": "9dQNgTttG4Uv"
   },
   "outputs": [],
   "source": [
    "def read_data_words():\n",
    "    x_train, y_train, x_test, y_test = [], [], [], []\n",
    "    cop = re.compile(\"[^a-z^A-Z^0-9^,^.^' ']\")\n",
    "    with open('/content/drive/My Drive/tensorflow/train_medium.csv', encoding='utf-8') as filex:\n",
    "        reader = csv.reader(filex)\n",
    "        for row in reader:\n",
    "            data = cop.sub(\"\", row[1])\n",
    "            x_train.append(data)\n",
    "            y_train.append(int(row[0]))\n",
    "\n",
    "    with open('/content/drive/My Drive/tensorflow/test_medium.csv', encoding='utf-8') as filex:\n",
    "        reader = csv.reader(filex)\n",
    "        for row in reader:\n",
    "            data = cop.sub(\"\", row[1])\n",
    "            x_test.append(data)\n",
    "            y_test.append(int(row[0]))\n",
    "\n",
    "    word_dict = build_word_dict(x_train+x_test)\n",
    "    x_train = preprocess(x_train, word_dict, MAX_DOCUMENT_LENGTH)\n",
    "    y_train = np.array(y_train)\n",
    "    x_test = preprocess(x_test, word_dict, MAX_DOCUMENT_LENGTH)\n",
    "    y_test = np.array(y_test)\n",
    "\n",
    "    x_train = [x[:MAX_DOCUMENT_LENGTH] for x in x_train]\n",
    "    x_test = [x[:MAX_DOCUMENT_LENGTH] for x in x_test]\n",
    "    x_train = tf.constant(x_train, dtype=tf.int64)\n",
    "    y_train = tf.constant(y_train, dtype=tf.int64)\n",
    "    x_test = tf.constant(x_test, dtype=tf.int64)\n",
    "    y_test = tf.constant(y_test, dtype=tf.int64)\n",
    "\n",
    "    vocab_size = tf.get_static_value(tf.reduce_max(x_train))\n",
    "    vocab_size = max(vocab_size, tf.get_static_value(tf.reduce_max(x_test))) + 1\n",
    "    return x_train, y_train, x_test, y_test, vocab_size"
   ]
  },
  {
   "cell_type": "code",
   "execution_count": 7,
   "metadata": {
    "executionInfo": {
     "elapsed": 6827,
     "status": "ok",
     "timestamp": 1605019999841,
     "user": {
      "displayName": "Mu Siyi",
      "photoUrl": "https://lh3.googleusercontent.com/a-/AOh14Gj8QgmJnhwClZ56sAt7RQhY0GcJe4BfDK1dGxf4ZQ=s64",
      "userId": "04695566065545999051"
     },
     "user_tz": -480
    },
    "id": "qx85cpoQHDxP"
   },
   "outputs": [],
   "source": [
    "x_train, y_train, x_test, y_test, vocab_size = read_data_words()\n",
    "# Use `tf.data` to batch and shuffle the dataset:\n",
    "train_ds = tf.data.Dataset.from_tensor_slices(\n",
    "    (x_train, y_train)).shuffle(10000).batch(batch_size)\n",
    "test_ds = tf.data.Dataset.from_tensor_slices((x_test, y_test)).batch(batch_size)"
   ]
  },
  {
   "cell_type": "code",
   "execution_count": 8,
   "metadata": {
    "executionInfo": {
     "elapsed": 6826,
     "status": "ok",
     "timestamp": 1605019999842,
     "user": {
      "displayName": "Mu Siyi",
      "photoUrl": "https://lh3.googleusercontent.com/a-/AOh14Gj8QgmJnhwClZ56sAt7RQhY0GcJe4BfDK1dGxf4ZQ=s64",
      "userId": "04695566065545999051"
     },
     "user_tz": -480
    },
    "id": "uj6AO6zqHFzv"
   },
   "outputs": [],
   "source": [
    "# Build model\n",
    "tf.keras.backend.set_floatx('float32')\n",
    "class WordRNN(Model):\n",
    "\n",
    "    def __init__(self, vocab_size, hidden_dim=10):\n",
    "        super(WordRNN, self).__init__()\n",
    "        # Hyperparameters\n",
    "        self.hidden_dim = hidden_dim\n",
    "        self.vocab_size = vocab_size\n",
    "        self.embedding = layers.Embedding(vocab_size, EMBEDDING_SIZE, input_length=MAX_DOCUMENT_LENGTH)\n",
    "        # Weight variables and RNN cell\n",
    "        self.rnn = layers.RNN(tf.keras.layers.GRUCell(self.hidden_dim), unroll=True) # GRU #, return_sequences=True\n",
    "        #self.rnn2 = layers.RNN(tf.keras.layers.GRUCell(self.hidden_dim), unroll=True) # GRU2\n",
    "        #self.rnn = layers.RNN(tf.keras.layers.SimpleRNNCell(self.hidden_dim), unroll=True) # Vanilla RNN\n",
    "        #self.rnn = layers.RNN(tf.keras.layers.LSTMCell(self.hidden_dim), unroll=True) # LSTM\n",
    "        self.dense = layers.Dense(MAX_LABEL, activation='softmax')\n",
    "\n",
    "    def call(self, x, drop_rate):\n",
    "        # forward logic\n",
    "        embedding = self.embedding(x)\n",
    "        encoding = self.rnn(embedding)\n",
    "        #encoding = self.rnn2(encoding)\n",
    "        #encoding = tf.nn.dropout(encoding, drop_rate) # Question 5\n",
    "        logits = self.dense(encoding)\n",
    "    \n",
    "        return logits"
   ]
  },
  {
   "cell_type": "code",
   "execution_count": 9,
   "metadata": {
    "executionInfo": {
     "elapsed": 6824,
     "status": "ok",
     "timestamp": 1605019999842,
     "user": {
      "displayName": "Mu Siyi",
      "photoUrl": "https://lh3.googleusercontent.com/a-/AOh14Gj8QgmJnhwClZ56sAt7RQhY0GcJe4BfDK1dGxf4ZQ=s64",
      "userId": "04695566065545999051"
     },
     "user_tz": -480
    },
    "id": "AxdNCmITHI34"
   },
   "outputs": [],
   "source": [
    "model = WordRNN(vocab_size, HIDDEN_SIZE)\n",
    "\n",
    "# Choose optimizer and loss function for training\n",
    "optimizer = tf.keras.optimizers.Adam(learning_rate=lr, clipvalue = 2) #Gradient Clipping \n",
    "loss_object = tf.keras.losses.SparseCategoricalCrossentropy(from_logits=True)\n",
    "\n",
    "# Select metrics to measure the loss and the accuracy of the model. \n",
    "# These metrics accumulate the values over epochs and then print the overall result.\n",
    "train_loss = tf.keras.metrics.Mean(name='train_loss')\n",
    "train_accuracy = tf.keras.metrics.SparseCategoricalAccuracy(name='train_accuracy')\n",
    "\n",
    "test_loss = tf.keras.metrics.Mean(name='test_loss')\n",
    "test_accuracy = tf.keras.metrics.SparseCategoricalAccuracy(name='test_accuracy')"
   ]
  },
  {
   "cell_type": "code",
   "execution_count": 10,
   "metadata": {
    "executionInfo": {
     "elapsed": 6823,
     "status": "ok",
     "timestamp": 1605019999843,
     "user": {
      "displayName": "Mu Siyi",
      "photoUrl": "https://lh3.googleusercontent.com/a-/AOh14Gj8QgmJnhwClZ56sAt7RQhY0GcJe4BfDK1dGxf4ZQ=s64",
      "userId": "04695566065545999051"
     },
     "user_tz": -480
    },
    "id": "xqp0KkrtHWPH"
   },
   "outputs": [],
   "source": [
    "# Training function\n",
    "def train_step(model, x, label, drop_rate):\n",
    "    with tf.GradientTape() as tape:\n",
    "        out = model(x, drop_rate)\n",
    "        loss = loss_object(label, out)\n",
    "        gradients = tape.gradient(loss, model.trainable_variables)\n",
    "        optimizer.apply_gradients(zip(gradients, model.trainable_variables))\n",
    "        \n",
    "    train_loss(loss)\n",
    "    train_accuracy(labels, out)"
   ]
  },
  {
   "cell_type": "code",
   "execution_count": 11,
   "metadata": {
    "executionInfo": {
     "elapsed": 6820,
     "status": "ok",
     "timestamp": 1605019999843,
     "user": {
      "displayName": "Mu Siyi",
      "photoUrl": "https://lh3.googleusercontent.com/a-/AOh14Gj8QgmJnhwClZ56sAt7RQhY0GcJe4BfDK1dGxf4ZQ=s64",
      "userId": "04695566065545999051"
     },
     "user_tz": -480
    },
    "id": "glNAWoGYHWmE"
   },
   "outputs": [],
   "source": [
    "# Testing function\n",
    "def test_step(model, x, label, drop_rate=0):\n",
    "    out = model(x,drop_rate)\n",
    "    t_loss = loss_object(label, out)\n",
    "    test_loss(t_loss)\n",
    "    test_accuracy(label, out)\n"
   ]
  },
  {
   "cell_type": "code",
   "execution_count": 12,
   "metadata": {
    "colab": {
     "base_uri": "https://localhost:8080/"
    },
    "executionInfo": {
     "elapsed": 943057,
     "status": "ok",
     "timestamp": 1605020936088,
     "user": {
      "displayName": "Mu Siyi",
      "photoUrl": "https://lh3.googleusercontent.com/a-/AOh14Gj8QgmJnhwClZ56sAt7RQhY0GcJe4BfDK1dGxf4ZQ=s64",
      "userId": "04695566065545999051"
     },
     "user_tz": -480
    },
    "id": "c7GNmaOIHYCR",
    "outputId": "836e7c39-33d1-483e-82d6-f27b78a14178"
   },
   "outputs": [
    {
     "name": "stdout",
     "output_type": "stream",
     "text": [
      "Epoch 1, Loss: 2.7056334018707275, Accuracy: 0.06785714626312256, Test Loss: 2.7040364742279053, Test Accuracy: 0.0714285746216774\n",
      "Epoch 2, Loss: 2.7045235633850098, Accuracy: 0.06803571432828903, Test Loss: 2.7038774490356445, Test Accuracy: 0.0714285746216774\n",
      "Epoch 3, Loss: 2.704253911972046, Accuracy: 0.06535714119672775, Test Loss: 2.7037079334259033, Test Accuracy: 0.07285714149475098\n",
      "Epoch 4, Loss: 2.703552722930908, Accuracy: 0.08178571611642838, Test Loss: 2.700599431991577, Test Accuracy: 0.13285714387893677\n",
      "Epoch 5, Loss: 2.6368448734283447, Accuracy: 0.16107143461704254, Test Loss: 2.5728304386138916, Test Accuracy: 0.21142856776714325\n",
      "Epoch 6, Loss: 2.530618906021118, Accuracy: 0.29249998927116394, Test Loss: 2.4829037189483643, Test Accuracy: 0.3442857265472412\n",
      "Epoch 7, Loss: 2.432058095932007, Accuracy: 0.4028571546077728, Test Loss: 2.3805572986602783, Test Accuracy: 0.5042856931686401\n",
      "Epoch 8, Loss: 2.3316562175750732, Accuracy: 0.5107142925262451, Test Loss: 2.3197689056396484, Test Accuracy: 0.5185714364051819\n",
      "Epoch 9, Loss: 2.27750563621521, Accuracy: 0.5433928370475769, Test Loss: 2.308753252029419, Test Accuracy: 0.5157142877578735\n",
      "Epoch 10, Loss: 2.232074022293091, Accuracy: 0.5958928465843201, Test Loss: 2.2681467533111572, Test Accuracy: 0.5628571510314941\n",
      "Epoch 11, Loss: 2.2089719772338867, Accuracy: 0.6085714101791382, Test Loss: 2.266845464706421, Test Accuracy: 0.5600000023841858\n",
      "Epoch 12, Loss: 2.194864511489868, Accuracy: 0.6178571581840515, Test Loss: 2.2513480186462402, Test Accuracy: 0.5714285969734192\n",
      "Epoch 13, Loss: 2.166830062866211, Accuracy: 0.6521428823471069, Test Loss: 2.206763744354248, Test Accuracy: 0.6142857074737549\n",
      "Epoch 14, Loss: 2.1964197158813477, Accuracy: 0.6228571534156799, Test Loss: 2.2727415561676025, Test Accuracy: 0.5542857050895691\n",
      "Epoch 15, Loss: 2.190187931060791, Accuracy: 0.6235714554786682, Test Loss: 2.268087148666382, Test Accuracy: 0.558571457862854\n",
      "Epoch 16, Loss: 2.1839382648468018, Accuracy: 0.6280357241630554, Test Loss: 2.257460355758667, Test Accuracy: 0.5628571510314941\n",
      "Epoch 17, Loss: 2.180462121963501, Accuracy: 0.6301785707473755, Test Loss: 2.256964683532715, Test Accuracy: 0.5642856955528259\n",
      "Epoch 18, Loss: 2.177502155303955, Accuracy: 0.6317856907844543, Test Loss: 2.2578155994415283, Test Accuracy: 0.5642856955528259\n",
      "Epoch 19, Loss: 2.1565494537353516, Accuracy: 0.6608928442001343, Test Loss: 2.203191041946411, Test Accuracy: 0.6342856884002686\n",
      "Epoch 20, Loss: 2.1120426654815674, Accuracy: 0.7035714387893677, Test Loss: 2.1934094429016113, Test Accuracy: 0.6357142925262451\n",
      "Epoch 21, Loss: 2.107973337173462, Accuracy: 0.7044642567634583, Test Loss: 2.1993656158447266, Test Accuracy: 0.6285714507102966\n",
      "Epoch 22, Loss: 2.1061553955078125, Accuracy: 0.7055357098579407, Test Loss: 2.1948211193084717, Test Accuracy: 0.6271428465843201\n",
      "Epoch 23, Loss: 2.0853371620178223, Accuracy: 0.7308928370475769, Test Loss: 2.2183990478515625, Test Accuracy: 0.6114285588264465\n",
      "Epoch 24, Loss: 2.0597009658813477, Accuracy: 0.7596428394317627, Test Loss: 2.175518751144409, Test Accuracy: 0.645714282989502\n",
      "Epoch 25, Loss: 2.0521228313446045, Accuracy: 0.7637500166893005, Test Loss: 2.1663968563079834, Test Accuracy: 0.6671428680419922\n",
      "Epoch 26, Loss: 2.0506303310394287, Accuracy: 0.764464259147644, Test Loss: 2.1785123348236084, Test Accuracy: 0.6442857384681702\n",
      "Epoch 27, Loss: 2.0489118099212646, Accuracy: 0.7657142877578735, Test Loss: 2.182652711868286, Test Accuracy: 0.645714282989502\n",
      "Epoch 28, Loss: 2.0514001846313477, Accuracy: 0.7637500166893005, Test Loss: 2.1635100841522217, Test Accuracy: 0.6628571152687073\n",
      "Epoch 29, Loss: 2.0419416427612305, Accuracy: 0.772678554058075, Test Loss: 2.172542095184326, Test Accuracy: 0.6585714221000671\n",
      "Epoch 30, Loss: 2.037188768386841, Accuracy: 0.7762500047683716, Test Loss: 2.1602442264556885, Test Accuracy: 0.6614285707473755\n",
      "Epoch 31, Loss: 2.03459095954895, Accuracy: 0.7778571248054504, Test Loss: 2.150911331176758, Test Accuracy: 0.6757143139839172\n",
      "Epoch 32, Loss: 2.0337369441986084, Accuracy: 0.7783928513526917, Test Loss: 2.1538970470428467, Test Accuracy: 0.6714285612106323\n",
      "Epoch 33, Loss: 2.0325729846954346, Accuracy: 0.7794643044471741, Test Loss: 2.1529133319854736, Test Accuracy: 0.6742857098579407\n",
      "Epoch 34, Loss: 2.0317118167877197, Accuracy: 0.7796428799629211, Test Loss: 2.1533708572387695, Test Accuracy: 0.6671428680419922\n",
      "Epoch 35, Loss: 2.0314557552337646, Accuracy: 0.7798214554786682, Test Loss: 2.152548313140869, Test Accuracy: 0.668571412563324\n",
      "Epoch 36, Loss: 2.035529613494873, Accuracy: 0.7755357027053833, Test Loss: 2.1514689922332764, Test Accuracy: 0.6671428680419922\n",
      "Epoch 37, Loss: 2.03495717048645, Accuracy: 0.7771428823471069, Test Loss: 2.1509618759155273, Test Accuracy: 0.6671428680419922\n",
      "Epoch 38, Loss: 2.0311481952667236, Accuracy: 0.7808928489685059, Test Loss: 2.149339437484741, Test Accuracy: 0.6714285612106323\n",
      "Epoch 39, Loss: 2.0303080081939697, Accuracy: 0.78125, Test Loss: 2.1451966762542725, Test Accuracy: 0.6800000071525574\n",
      "Epoch 40, Loss: 2.0291473865509033, Accuracy: 0.7817857265472412, Test Loss: 2.147245407104492, Test Accuracy: 0.6757143139839172\n",
      "Epoch 41, Loss: 2.0166406631469727, Accuracy: 0.7996428608894348, Test Loss: 2.151169538497925, Test Accuracy: 0.6785714030265808\n",
      "Epoch 42, Loss: 1.988060474395752, Accuracy: 0.8330357074737549, Test Loss: 2.1283118724823, Test Accuracy: 0.6942856907844543\n",
      "Epoch 43, Loss: 1.9789268970489502, Accuracy: 0.8385714292526245, Test Loss: 2.118901252746582, Test Accuracy: 0.6985714435577393\n",
      "Epoch 44, Loss: 1.9727100133895874, Accuracy: 0.8432142734527588, Test Loss: 2.121243715286255, Test Accuracy: 0.691428542137146\n",
      "Epoch 45, Loss: 1.969314694404602, Accuracy: 0.8455356955528259, Test Loss: 2.115438222885132, Test Accuracy: 0.6971428394317627\n",
      "Epoch 46, Loss: 1.9716781377792358, Accuracy: 0.84375, Test Loss: 2.121253728866577, Test Accuracy: 0.699999988079071\n",
      "Epoch 47, Loss: 1.9652682542800903, Accuracy: 0.8494642972946167, Test Loss: 2.1161768436431885, Test Accuracy: 0.699999988079071\n",
      "Epoch 48, Loss: 1.9632906913757324, Accuracy: 0.8508928418159485, Test Loss: 2.1124908924102783, Test Accuracy: 0.7071428298950195\n",
      "Epoch 49, Loss: 1.9613982439041138, Accuracy: 0.8519642949104309, Test Loss: 2.1143035888671875, Test Accuracy: 0.6971428394317627\n",
      "Epoch 50, Loss: 1.9603060483932495, Accuracy: 0.8530356884002686, Test Loss: 2.1202375888824463, Test Accuracy: 0.699999988079071\n",
      "Epoch 51, Loss: 1.9596152305603027, Accuracy: 0.8532142639160156, Test Loss: 2.115722894668579, Test Accuracy: 0.7014285922050476\n",
      "Epoch 52, Loss: 1.9590811729431152, Accuracy: 0.8533928394317627, Test Loss: 2.113327741622925, Test Accuracy: 0.704285740852356\n",
      "Epoch 53, Loss: 1.958761215209961, Accuracy: 0.8537499904632568, Test Loss: 2.1124117374420166, Test Accuracy: 0.7014285922050476\n",
      "Epoch 54, Loss: 1.958319902420044, Accuracy: 0.854107141494751, Test Loss: 2.112469434738159, Test Accuracy: 0.7085714340209961\n",
      "Epoch 55, Loss: 1.958140254020691, Accuracy: 0.854107141494751, Test Loss: 2.109828233718872, Test Accuracy: 0.7099999785423279\n",
      "Epoch 56, Loss: 1.9579602479934692, Accuracy: 0.854107141494751, Test Loss: 2.109900712966919, Test Accuracy: 0.7114285826683044\n",
      "Epoch 57, Loss: 1.9578983783721924, Accuracy: 0.854107141494751, Test Loss: 2.1100704669952393, Test Accuracy: 0.7128571271896362\n",
      "Epoch 58, Loss: 1.9463828802108765, Accuracy: 0.8682143092155457, Test Loss: 2.094048261642456, Test Accuracy: 0.727142870426178\n",
      "Epoch 59, Loss: 1.9075744152069092, Accuracy: 0.9121428728103638, Test Loss: 2.0965309143066406, Test Accuracy: 0.7157142758369446\n",
      "Epoch 60, Loss: 1.8974604606628418, Accuracy: 0.9198214411735535, Test Loss: 2.097318649291992, Test Accuracy: 0.7114285826683044\n",
      "Epoch 61, Loss: 1.8968743085861206, Accuracy: 0.9205357432365417, Test Loss: 2.1081275939941406, Test Accuracy: 0.7099999785423279\n",
      "Epoch 62, Loss: 1.8946551084518433, Accuracy: 0.9226785898208618, Test Loss: 2.109585762023926, Test Accuracy: 0.7085714340209961\n",
      "Epoch 63, Loss: 1.8936443328857422, Accuracy: 0.9233928322792053, Test Loss: 2.1102755069732666, Test Accuracy: 0.7085714340209961\n",
      "Epoch 64, Loss: 1.894053339958191, Accuracy: 0.923035740852356, Test Loss: 2.08463454246521, Test Accuracy: 0.7357142567634583\n",
      "Epoch 65, Loss: 1.893894910812378, Accuracy: 0.9232142567634583, Test Loss: 2.0942089557647705, Test Accuracy: 0.7328571677207947\n",
      "Epoch 66, Loss: 1.893129825592041, Accuracy: 0.9233928322792053, Test Loss: 2.10121750831604, Test Accuracy: 0.7185714244842529\n",
      "Epoch 67, Loss: 1.8911010026931763, Accuracy: 0.9246428608894348, Test Loss: 2.1038544178009033, Test Accuracy: 0.7114285826683044\n",
      "Epoch 68, Loss: 1.8902634382247925, Accuracy: 0.9248214364051819, Test Loss: 2.104696750640869, Test Accuracy: 0.7085714340209961\n",
      "Epoch 69, Loss: 1.889505386352539, Accuracy: 0.9253571629524231, Test Loss: 2.0981509685516357, Test Accuracy: 0.7157142758369446\n",
      "Epoch 70, Loss: 1.889360785484314, Accuracy: 0.9253571629524231, Test Loss: 2.103039503097534, Test Accuracy: 0.7099999785423279\n",
      "Epoch 71, Loss: 1.8891555070877075, Accuracy: 0.9255357384681702, Test Loss: 2.094881296157837, Test Accuracy: 0.7214285731315613\n",
      "Epoch 72, Loss: 1.88944673538208, Accuracy: 0.9255357384681702, Test Loss: 2.088428258895874, Test Accuracy: 0.7300000190734863\n",
      "Epoch 73, Loss: 1.8889706134796143, Accuracy: 0.9255357384681702, Test Loss: 2.089539051055908, Test Accuracy: 0.7285714149475098\n",
      "Epoch 74, Loss: 1.8888969421386719, Accuracy: 0.9255357384681702, Test Loss: 2.088308095932007, Test Accuracy: 0.7300000190734863\n",
      "Epoch 75, Loss: 1.8887261152267456, Accuracy: 0.9255357384681702, Test Loss: 2.088689088821411, Test Accuracy: 0.7285714149475098\n",
      "Epoch 76, Loss: 1.888848066329956, Accuracy: 0.9255357384681702, Test Loss: 2.0893566608428955, Test Accuracy: 0.7285714149475098\n",
      "Epoch 77, Loss: 1.8887016773223877, Accuracy: 0.9255357384681702, Test Loss: 2.091050386428833, Test Accuracy: 0.727142870426178\n",
      "Epoch 78, Loss: 1.8886668682098389, Accuracy: 0.9255357384681702, Test Loss: 2.0902888774871826, Test Accuracy: 0.727142870426178\n",
      "Epoch 79, Loss: 1.8884793519973755, Accuracy: 0.9255357384681702, Test Loss: 2.0897910594940186, Test Accuracy: 0.727142870426178\n",
      "Epoch 80, Loss: 1.888401746749878, Accuracy: 0.9255357384681702, Test Loss: 2.08931040763855, Test Accuracy: 0.727142870426178\n",
      "Epoch 81, Loss: 1.8887828588485718, Accuracy: 0.9255357384681702, Test Loss: 2.088848114013672, Test Accuracy: 0.727142870426178\n",
      "Epoch 82, Loss: 1.888712763786316, Accuracy: 0.9255357384681702, Test Loss: 2.0893895626068115, Test Accuracy: 0.727142870426178\n",
      "Epoch 83, Loss: 1.8883591890335083, Accuracy: 0.9255357384681702, Test Loss: 2.0884313583374023, Test Accuracy: 0.7285714149475098\n",
      "Epoch 84, Loss: 1.8884644508361816, Accuracy: 0.9255357384681702, Test Loss: 2.089705467224121, Test Accuracy: 0.727142870426178\n",
      "Epoch 85, Loss: 1.8885616064071655, Accuracy: 0.9255357384681702, Test Loss: 2.0890588760375977, Test Accuracy: 0.727142870426178\n",
      "Epoch 86, Loss: 1.8884483575820923, Accuracy: 0.9255357384681702, Test Loss: 2.0890846252441406, Test Accuracy: 0.7285714149475098\n",
      "Epoch 87, Loss: 1.8881545066833496, Accuracy: 0.9255357384681702, Test Loss: 2.0890138149261475, Test Accuracy: 0.7285714149475098\n",
      "Epoch 88, Loss: 1.8886020183563232, Accuracy: 0.9255357384681702, Test Loss: 2.0891530513763428, Test Accuracy: 0.727142870426178\n",
      "Epoch 89, Loss: 1.8883060216903687, Accuracy: 0.9255357384681702, Test Loss: 2.0889461040496826, Test Accuracy: 0.727142870426178\n",
      "Epoch 90, Loss: 1.8882973194122314, Accuracy: 0.9255357384681702, Test Loss: 2.089991331100464, Test Accuracy: 0.7257142663002014\n",
      "Epoch 91, Loss: 1.8885245323181152, Accuracy: 0.9255357384681702, Test Loss: 2.0865514278411865, Test Accuracy: 0.7314285635948181\n",
      "Epoch 92, Loss: 1.8885794878005981, Accuracy: 0.9255357384681702, Test Loss: 2.0896501541137695, Test Accuracy: 0.727142870426178\n",
      "Epoch 93, Loss: 1.8887481689453125, Accuracy: 0.9255357384681702, Test Loss: 2.087480306625366, Test Accuracy: 0.7300000190734863\n",
      "Epoch 94, Loss: 1.8886853456497192, Accuracy: 0.9255357384681702, Test Loss: 2.089576482772827, Test Accuracy: 0.7285714149475098\n",
      "Epoch 95, Loss: 1.8885024785995483, Accuracy: 0.9255357384681702, Test Loss: 2.0855417251586914, Test Accuracy: 0.7328571677207947\n",
      "Epoch 96, Loss: 1.8884464502334595, Accuracy: 0.9255357384681702, Test Loss: 2.0895867347717285, Test Accuracy: 0.7285714149475098\n",
      "Epoch 97, Loss: 1.8886160850524902, Accuracy: 0.9255357384681702, Test Loss: 2.088698625564575, Test Accuracy: 0.7285714149475098\n",
      "Epoch 98, Loss: 1.8884516954421997, Accuracy: 0.9255357384681702, Test Loss: 2.088519811630249, Test Accuracy: 0.7285714149475098\n",
      "Epoch 99, Loss: 1.8882638216018677, Accuracy: 0.9255357384681702, Test Loss: 2.087639808654785, Test Accuracy: 0.7314285635948181\n",
      "Epoch 100, Loss: 1.8884886503219604, Accuracy: 0.9255357384681702, Test Loss: 2.087736129760742, Test Accuracy: 0.7314285635948181\n"
     ]
    }
   ],
   "source": [
    "test_acc = []\n",
    "train_lo = []\n",
    "for epoch in range(no_epochs):\n",
    "    # Reset the metrics at the start of the next epoch\n",
    "    train_loss.reset_states()\n",
    "    train_accuracy.reset_states()\n",
    "    test_loss.reset_states()\n",
    "    test_accuracy.reset_states()\n",
    "\n",
    "    for images, labels in train_ds:\n",
    "        train_step(model, images, labels, drop_rate=0.5)\n",
    "\n",
    "    for images, labels in test_ds:\n",
    "        test_step(model, images, labels, drop_rate=0)\n",
    "\n",
    "    test_acc.append(test_accuracy.result())\n",
    "    train_lo.append(train_loss.result())\n",
    "    template = 'Epoch {}, Loss: {}, Accuracy: {}, Test Loss: {}, Test Accuracy: {}'\n",
    "    print (template.format(epoch+1,\n",
    "                          train_loss.result(),\n",
    "                          train_accuracy.result(),\n",
    "                          test_loss.result(),\n",
    "                          test_accuracy.result()))"
   ]
  },
  {
   "cell_type": "code",
   "execution_count": 13,
   "metadata": {
    "colab": {
     "base_uri": "https://localhost:8080/",
     "height": 297
    },
    "executionInfo": {
     "elapsed": 943056,
     "status": "ok",
     "timestamp": 1605020936092,
     "user": {
      "displayName": "Mu Siyi",
      "photoUrl": "https://lh3.googleusercontent.com/a-/AOh14Gj8QgmJnhwClZ56sAt7RQhY0GcJe4BfDK1dGxf4ZQ=s64",
      "userId": "04695566065545999051"
     },
     "user_tz": -480
    },
    "id": "0eFPW7e5HifI",
    "outputId": "4053264f-9cfb-4a63-a198-64017447eb95"
   },
   "outputs": [
    {
     "data": {
      "text/plain": [
       "Text(0, 0.5, 'Train Loss')"
      ]
     },
     "execution_count": 13,
     "metadata": {
      "tags": []
     },
     "output_type": "execute_result"
    },
    {
     "data": {
      "image/png": "[encoded data removed]",
      "text/plain": [
       "<Figure size 432x288 with 1 Axes>"
      ]
     },
     "metadata": {
      "needs_background": "light",
      "tags": []
     },
     "output_type": "display_data"
    }
   ],
   "source": [
    "# Plot train loss\n",
    "pylab.figure()\n",
    "pylab.plot(np.arange(no_epochs), train_lo)\n",
    "pylab.xlabel('epochs')\n",
    "pylab.ylabel('Train Loss')"
   ]
  },
  {
   "cell_type": "code",
   "execution_count": 14,
   "metadata": {
    "colab": {
     "base_uri": "https://localhost:8080/",
     "height": 297
    },
    "executionInfo": {
     "elapsed": 943054,
     "status": "ok",
     "timestamp": 1605020936092,
     "user": {
      "displayName": "Mu Siyi",
      "photoUrl": "https://lh3.googleusercontent.com/a-/AOh14Gj8QgmJnhwClZ56sAt7RQhY0GcJe4BfDK1dGxf4ZQ=s64",
      "userId": "04695566065545999051"
     },
     "user_tz": -480
    },
    "id": "QsZurf0THi9k",
    "outputId": "b5a53ee0-c686-4690-c742-ba29ba0cbf3c"
   },
   "outputs": [
    {
     "data": {
      "text/plain": [
       "Text(0, 0.5, 'Test Accuracy')"
      ]
     },
     "execution_count": 14,
     "metadata": {
      "tags": []
     },
     "output_type": "execute_result"
    },
    {
     "data": {
      "image/png": "[encoded data removed]",
      "text/plain": [
       "<Figure size 432x288 with 1 Axes>"
      ]
     },
     "metadata": {
      "needs_background": "light",
      "tags": []
     },
     "output_type": "display_data"
    }
   ],
   "source": [
    "# Plot test accuracy\n",
    "pylab.figure()\n",
    "pylab.plot(np.arange(no_epochs), test_acc)\n",
    "pylab.xlabel('epochs')\n",
    "pylab.ylabel('Test Accuracy')"
   ]
  }
 ],
 "metadata": {
  "accelerator": "GPU",
  "colab": {
   "authorship_tag": "ABX9TyPOjc/ucHGNGkBXW9kplcPi",
   "collapsed_sections": [],
   "name": "Mu_Siyi_TaskB_RNN_word.ipynb",
   "provenance": [
    {
     "file_id": "1r7cqxCO_EtU6DJTxDCtvS06gsk0sBWLw",
     "timestamp": 1604994532004
    }
   ]
  },
  "kernelspec": {
   "display_name": "Python 3",
   "language": "python",
   "name": "python3"
  },
  "language_info": {
   "codemirror_mode": {
    "name": "ipython",
    "version": 3
   },
   "file_extension": ".py",
   "mimetype": "text/x-python",
   "name": "python",
   "nbconvert_exporter": "python",
   "pygments_lexer": "ipython3",
   "version": "3.8.5"
  }
 },
 "nbformat": 4,
 "nbformat_minor": 1
}
